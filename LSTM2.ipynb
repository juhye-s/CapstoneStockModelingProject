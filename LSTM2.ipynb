{
 "cells": [
  {
   "cell_type": "code",
   "execution_count": 19,
   "id": "b5d44ecf",
   "metadata": {},
   "outputs": [],
   "source": [
    "# prepare data for lstm\n",
    "from pandas import read_csv\n",
    "from pandas import DataFrame\n",
    "from pandas import concat\n",
    "from sklearn.preprocessing import LabelEncoder\n",
    "from sklearn.preprocessing import MinMaxScaler, StandardScaler\n",
    "import matplotlib.pyplot as plt\n",
    "\n",
    "# convert series to supervised learning\n",
    "def series_to_supervised(data, n_in=1, n_out=1, dropnan=True):\n",
    "    n_vars = 1 if type(data) is list else data.shape[1]\n",
    "    df = DataFrame(data)\n",
    "    cols, names = list(), list()\n",
    "    # input sequence (t-n, ... t-1)\n",
    "    for i in range(n_in, 0, -1):\n",
    "        cols.append(df.shift(i))\n",
    "        names += [('var%d(t-%d)' % (j+1, i)) for j in range(n_vars)]\n",
    "    # forecast sequence (t, t+1, ... t+n)\n",
    "    for i in range(0, n_out):\n",
    "        cols.append(df.shift(-i))\n",
    "        if i >= 0:\n",
    "            names += [('var%d(t)' % (j+1)) for j in range(n_vars)]\n",
    "#         else:\n",
    "#             names += [('var%d(t+%d)' % (j+1, i)) for j in range(n_vars)]\n",
    "    # put it all together\n",
    "    agg = concat(cols, axis=1)\n",
    "    agg.columns = names\n",
    "    # drop rows with NaN values\n",
    "    if dropnan:\n",
    "        agg.dropna(inplace=True)\n",
    "    return agg\n"
   ]
  },
  {
   "cell_type": "code",
   "execution_count": 23,
   "id": "15e0513b",
   "metadata": {},
   "outputs": [
    {
     "name": "stdout",
     "output_type": "stream",
     "text": [
      "         ROE      영업이익률       부채비율     EPS       순이익률           BPS  \\\n",
      "0  16.424694  14.352127  26.405922    8057  18.414395  5.135684e+04   \n",
      "1  13.575704  18.466727  39.921697    5777  14.272806  4.413730e+04   \n",
      "2   9.709985  15.199668  37.067743    3841  11.151627  4.013644e+04   \n",
      "3   8.509015  12.052258  34.115921    3166   9.435235  3.828532e+04   \n",
      "4  18.204228  24.156511  36.973922    6461  18.191164  3.609738e+04   \n",
      "5  19.467028  22.391716  40.682587    5997  17.608966  3.049074e+04   \n",
      "6  11.715457  14.485136  35.867643    3159  11.257967  2.682248e+04   \n",
      "7  10.245763  13.163710  35.250634  126305   9.499035  1.186568e+06   \n",
      "8  13.726899  12.135958  37.084563  153105  11.345140  1.100058e+06   \n",
      "9  20.384758  16.084911  42.701448  197841  13.325641  9.738982e+05   \n",
      "\n",
      "         PER       PBR     종가  \n",
      "0   6.863597  1.076780  55300  \n",
      "1  13.553748  1.774010  78300  \n",
      "2  21.088258  2.018116  81000  \n",
      "3  17.624763  1.457478  55800  \n",
      "4   5.989785  1.072100  38700  \n",
      "5   8.497582  1.671327  50960  \n",
      "6  11.408674  1.343649  36040  \n",
      "7   0.199517  0.021238  25200  \n",
      "8   0.173345  0.024126  26540  \n",
      "9   0.138697  0.028175  27440  \n"
     ]
    }
   ],
   "source": [
    "\n",
    "# load dataset\n",
    "dataset = read_csv(\"데이터셋.csv\" , encoding = \"EUC-KR\")\n",
    "\n",
    "dataset=dataset.drop(['Unnamed: 0'],axis=1)\n",
    "print(dataset)\n",
    "values = dataset.values\n",
    "# integer encode direction\n",
    "encoder = LabelEncoder()\n",
    "values[:,0] = encoder.fit_transform(values[:,0])\n",
    "# ensure all data is float\n",
    "values = values.astype('float32')\n",
    "# normalize features\n",
    "scaler = MinMaxScaler(feature_range=(0, 10))\n",
    "# scaler = StandardScaler()\n",
    "scaled = scaler.fit_transform(values)\n",
    "# frame as supervised learning\n",
    "reframed = series_to_supervised(scaled, 8, 1)\n",
    "# reframed = series_to_supervised(values, 1, 1)\n",
    "\n",
    "# drop columns we don't want to predict\n",
    "# reframed.drop(reframed.columns[[5,6,7]], axis=1, inplace=True)"
   ]
  },
  {
   "cell_type": "code",
   "execution_count": 29,
   "id": "a10a30d3",
   "metadata": {},
   "outputs": [
    {
     "data": {
      "text/plain": [
       "array([[6.6666670e+00, 1.9000502e+00, 0.0000000e+00, 2.5158978e-01,\n",
       "        1.0000000e+01, 2.1154957e-01, 3.2100432e+00, 5.2859592e+00,\n",
       "        5.3942647e+00, 4.4444447e+00, 5.2993517e+00, 8.2941628e+00,\n",
       "        1.3447571e-01, 5.3875551e+00, 1.4929844e-01, 6.4034986e+00,\n",
       "        8.7775602e+00, 9.5161285e+00, 1.1111112e+00, 2.6002512e+00,\n",
       "        6.5427895e+00, 3.5031483e-02, 1.9115286e+00, 1.1480071e-01,\n",
       "        1.0000000e+01, 1.0000000e+01, 1.0000000e+01, 0.0000000e+00,\n",
       "        0.0000000e+00, 4.7313595e+00, 3.5956502e-04, 0.0000000e+00,\n",
       "        9.8839298e-02, 8.3467455e+00, 7.1924253e+00, 5.4838710e+00,\n",
       "        7.7777781e+00, 1.0000000e+01, 6.4852161e+00, 1.6960993e-01,\n",
       "        9.7513905e+00, 7.9973623e-02, 2.7929404e+00, 5.2625241e+00,\n",
       "        2.4193544e+00, 8.8888893e+00, 8.5420036e+00, 8.7610950e+00,\n",
       "        1.4577618e-01, 9.1030045e+00, 3.1629845e-02, 3.9900048e+00,\n",
       "        8.2633438e+00, 4.6164870e+00, 3.3333335e+00, 2.0099363e+00,\n",
       "        5.8063297e+00, 0.0000000e+00, 2.0299587e+00, 0.0000000e+00,\n",
       "        5.3795757e+00, 6.6223917e+00, 1.9426522e+00, 2.2222223e+00,\n",
       "        9.1823196e-01, 5.4276924e+00, 6.3254948e+00, 7.1053505e-02,\n",
       "        1.0000000e+01, 2.9031537e-02, 0.0000000e+00, 0.0000000e+00,\n",
       "        5.5555558e+00, 6.9148064e-02, 6.5531139e+00, 7.7020984e+00,\n",
       "        2.1270428e+00, 9.2540607e+00, 1.6538702e-02, 1.4463969e-02,\n",
       "        2.4014330e-01],\n",
       "       [4.4444447e+00, 5.2993517e+00, 8.2941628e+00, 1.3447571e-01,\n",
       "        5.3875551e+00, 1.4929844e-01, 6.4034986e+00, 8.7775602e+00,\n",
       "        9.5161285e+00, 1.1111112e+00, 2.6002512e+00, 6.5427895e+00,\n",
       "        3.5031483e-02, 1.9115286e+00, 1.1480071e-01, 1.0000000e+01,\n",
       "        1.0000000e+01, 1.0000000e+01, 0.0000000e+00, 0.0000000e+00,\n",
       "        4.7313595e+00, 3.5956502e-04, 0.0000000e+00, 9.8839298e-02,\n",
       "        8.3467455e+00, 7.1924253e+00, 5.4838710e+00, 7.7777781e+00,\n",
       "        1.0000000e+01, 6.4852161e+00, 1.6960993e-01, 9.7513905e+00,\n",
       "        7.9973623e-02, 2.7929404e+00, 5.2625241e+00, 2.4193544e+00,\n",
       "        8.8888893e+00, 8.5420036e+00, 8.7610950e+00, 1.4577618e-01,\n",
       "        9.1030045e+00, 3.1629845e-02, 3.9900048e+00, 8.2633438e+00,\n",
       "        4.6164870e+00, 3.3333335e+00, 2.0099363e+00, 5.8063297e+00,\n",
       "        0.0000000e+00, 2.0299587e+00, 0.0000000e+00, 5.3795757e+00,\n",
       "        6.6223917e+00, 1.9426522e+00, 2.2222223e+00, 9.1823196e-01,\n",
       "        5.4276924e+00, 6.3254948e+00, 7.1053505e-02, 1.0000000e+01,\n",
       "        2.9031537e-02, 0.0000000e+00, 0.0000000e+00, 5.5555558e+00,\n",
       "        6.9148064e-02, 6.5531139e+00, 7.7020984e+00, 2.1270428e+00,\n",
       "        9.2540607e+00, 1.6538702e-02, 1.4463969e-02, 2.4014330e-01,\n",
       "        1.0000000e+01, 3.3316002e+00, 1.0000000e+01, 1.0000000e+01,\n",
       "        4.3327065e+00, 8.1662397e+00, 0.0000000e+00, 3.4742728e-02,\n",
       "        4.0143347e-01]], dtype=float32)"
      ]
     },
     "execution_count": 29,
     "metadata": {},
     "output_type": "execute_result"
    }
   ],
   "source": [
    "values = reframed.values\n",
    "values[n_train_hours:, :]"
   ]
  },
  {
   "cell_type": "code",
   "execution_count": 31,
   "id": "0b71f0c0",
   "metadata": {},
   "outputs": [
    {
     "data": {
      "text/plain": [
       "array([[4.4444447e+00, 5.2993517e+00, 8.2941628e+00, 1.3447571e-01,\n",
       "        5.3875551e+00, 1.4929844e-01, 6.4034986e+00, 8.7775602e+00,\n",
       "        9.5161285e+00, 1.1111112e+00, 2.6002512e+00, 6.5427895e+00,\n",
       "        3.5031483e-02, 1.9115286e+00, 1.1480071e-01, 1.0000000e+01,\n",
       "        1.0000000e+01, 1.0000000e+01, 0.0000000e+00, 0.0000000e+00,\n",
       "        4.7313595e+00, 3.5956502e-04, 0.0000000e+00, 9.8839298e-02,\n",
       "        8.3467455e+00, 7.1924253e+00, 5.4838710e+00, 7.7777781e+00,\n",
       "        1.0000000e+01, 6.4852161e+00, 1.6960993e-01, 9.7513905e+00,\n",
       "        7.9973623e-02, 2.7929404e+00, 5.2625241e+00, 2.4193544e+00,\n",
       "        8.8888893e+00, 8.5420036e+00, 8.7610950e+00, 1.4577618e-01,\n",
       "        9.1030045e+00, 3.1629845e-02, 3.9900048e+00, 8.2633438e+00,\n",
       "        4.6164870e+00, 3.3333335e+00, 2.0099363e+00, 5.8063297e+00,\n",
       "        0.0000000e+00, 2.0299587e+00, 0.0000000e+00, 5.3795757e+00,\n",
       "        6.6223917e+00, 1.9426522e+00, 2.2222223e+00, 9.1823196e-01,\n",
       "        5.4276924e+00, 6.3254948e+00, 7.1053505e-02, 1.0000000e+01,\n",
       "        2.9031537e-02, 0.0000000e+00, 0.0000000e+00, 5.5555558e+00,\n",
       "        6.9148064e-02, 6.5531139e+00, 7.7020984e+00, 2.1270428e+00,\n",
       "        9.2540607e+00, 1.6538702e-02, 1.4463969e-02, 2.4014330e-01,\n",
       "        1.0000000e+01, 3.3316002e+00, 1.0000000e+01, 1.0000000e+01,\n",
       "        4.3327065e+00, 8.1662397e+00, 0.0000000e+00, 3.4742728e-02,\n",
       "        4.0143347e-01]], dtype=float32)"
      ]
     },
     "execution_count": 31,
     "metadata": {},
     "output_type": "execute_result"
    }
   ],
   "source": [
    "values[1:, :]"
   ]
  },
  {
   "cell_type": "code",
   "execution_count": 32,
   "id": "c47ca735",
   "metadata": {},
   "outputs": [
    {
     "name": "stdout",
     "output_type": "stream",
     "text": [
      "(1, 1, 73) (1, 8) (1, 1, 73) (1, 8)\n",
      "Epoch 1/50\n",
      "1/1 - 3s - loss: 3.1480 - val_loss: 4.2688 - 3s/epoch - 3s/step\n",
      "Epoch 2/50\n",
      "1/1 - 0s - loss: 3.1884 - val_loss: 3.6192 - 45ms/epoch - 45ms/step\n",
      "Epoch 3/50\n",
      "1/1 - 0s - loss: 2.2982 - val_loss: 2.9239 - 38ms/epoch - 38ms/step\n",
      "Epoch 4/50\n",
      "1/1 - 0s - loss: 1.8671 - val_loss: 2.4702 - 38ms/epoch - 38ms/step\n",
      "Epoch 5/50\n",
      "1/1 - 0s - loss: 1.5911 - val_loss: 1.9589 - 38ms/epoch - 38ms/step\n",
      "Epoch 6/50\n",
      "1/1 - 0s - loss: 1.0198 - val_loss: 1.3350 - 37ms/epoch - 37ms/step\n",
      "Epoch 7/50\n",
      "1/1 - 0s - loss: 0.6845 - val_loss: 1.2162 - 40ms/epoch - 40ms/step\n",
      "Epoch 8/50\n",
      "1/1 - 0s - loss: 0.8744 - val_loss: 1.4165 - 37ms/epoch - 37ms/step\n",
      "Epoch 9/50\n",
      "1/1 - 0s - loss: 1.0593 - val_loss: 1.5228 - 34ms/epoch - 34ms/step\n",
      "Epoch 10/50\n",
      "1/1 - 0s - loss: 1.1073 - val_loss: 1.6062 - 41ms/epoch - 41ms/step\n",
      "Epoch 11/50\n",
      "1/1 - 0s - loss: 0.9075 - val_loss: 1.6278 - 35ms/epoch - 35ms/step\n",
      "Epoch 12/50\n",
      "1/1 - 0s - loss: 0.5745 - val_loss: 1.6996 - 37ms/epoch - 37ms/step\n",
      "Epoch 13/50\n",
      "1/1 - 0s - loss: 0.4899 - val_loss: 1.8281 - 39ms/epoch - 39ms/step\n",
      "Epoch 14/50\n",
      "1/1 - 0s - loss: 0.5281 - val_loss: 1.9173 - 45ms/epoch - 45ms/step\n",
      "Epoch 15/50\n",
      "1/1 - 0s - loss: 0.6341 - val_loss: 1.8625 - 52ms/epoch - 52ms/step\n",
      "Epoch 16/50\n",
      "1/1 - 0s - loss: 0.5967 - val_loss: 1.7731 - 43ms/epoch - 43ms/step\n",
      "Epoch 17/50\n",
      "1/1 - 0s - loss: 0.5260 - val_loss: 1.6681 - 50ms/epoch - 50ms/step\n",
      "Epoch 18/50\n",
      "1/1 - 0s - loss: 0.4295 - val_loss: 1.5043 - 44ms/epoch - 44ms/step\n",
      "Epoch 19/50\n",
      "1/1 - 0s - loss: 0.4471 - val_loss: 1.4322 - 48ms/epoch - 48ms/step\n",
      "Epoch 20/50\n",
      "1/1 - 0s - loss: 0.4378 - val_loss: 1.4211 - 37ms/epoch - 37ms/step\n",
      "Epoch 21/50\n",
      "1/1 - 0s - loss: 0.3920 - val_loss: 1.5086 - 40ms/epoch - 40ms/step\n",
      "Epoch 22/50\n",
      "1/1 - 0s - loss: 0.2953 - val_loss: 1.6274 - 41ms/epoch - 41ms/step\n",
      "Epoch 23/50\n",
      "1/1 - 0s - loss: 0.2667 - val_loss: 1.6980 - 37ms/epoch - 37ms/step\n",
      "Epoch 24/50\n",
      "1/1 - 0s - loss: 0.2806 - val_loss: 1.7085 - 38ms/epoch - 38ms/step\n",
      "Epoch 25/50\n",
      "1/1 - 0s - loss: 0.2613 - val_loss: 1.7473 - 39ms/epoch - 39ms/step\n",
      "Epoch 26/50\n",
      "1/1 - 0s - loss: 0.3012 - val_loss: 1.8426 - 35ms/epoch - 35ms/step\n",
      "Epoch 27/50\n",
      "1/1 - 0s - loss: 0.3686 - val_loss: 1.8436 - 39ms/epoch - 39ms/step\n",
      "Epoch 28/50\n",
      "1/1 - 0s - loss: 0.3549 - val_loss: 1.8035 - 37ms/epoch - 37ms/step\n",
      "Epoch 29/50\n",
      "1/1 - 0s - loss: 0.3585 - val_loss: 1.7488 - 35ms/epoch - 35ms/step\n",
      "Epoch 30/50\n",
      "1/1 - 0s - loss: 0.3156 - val_loss: 1.6545 - 38ms/epoch - 38ms/step\n",
      "Epoch 31/50\n",
      "1/1 - 0s - loss: 0.1720 - val_loss: 1.5834 - 40ms/epoch - 40ms/step\n",
      "Epoch 32/50\n",
      "1/1 - 0s - loss: 0.1505 - val_loss: 1.4484 - 36ms/epoch - 36ms/step\n",
      "Epoch 33/50\n",
      "1/1 - 0s - loss: 0.2721 - val_loss: 1.4088 - 40ms/epoch - 40ms/step\n",
      "Epoch 34/50\n",
      "1/1 - 0s - loss: 0.3440 - val_loss: 1.4028 - 47ms/epoch - 47ms/step\n",
      "Epoch 35/50\n",
      "1/1 - 0s - loss: 0.3471 - val_loss: 1.4537 - 45ms/epoch - 45ms/step\n",
      "Epoch 36/50\n",
      "1/1 - 0s - loss: 0.2509 - val_loss: 1.5212 - 39ms/epoch - 39ms/step\n",
      "Epoch 37/50\n",
      "1/1 - 0s - loss: 0.2094 - val_loss: 1.6078 - 37ms/epoch - 37ms/step\n",
      "Epoch 38/50\n",
      "1/1 - 0s - loss: 0.2083 - val_loss: 1.6781 - 38ms/epoch - 38ms/step\n",
      "Epoch 39/50\n",
      "1/1 - 0s - loss: 0.1876 - val_loss: 1.7551 - 39ms/epoch - 39ms/step\n",
      "Epoch 40/50\n",
      "1/1 - 0s - loss: 0.2581 - val_loss: 1.7905 - 43ms/epoch - 43ms/step\n",
      "Epoch 41/50\n",
      "1/1 - 0s - loss: 0.2892 - val_loss: 1.7386 - 39ms/epoch - 39ms/step\n",
      "Epoch 42/50\n",
      "1/1 - 0s - loss: 0.2166 - val_loss: 1.6192 - 45ms/epoch - 45ms/step\n",
      "Epoch 43/50\n",
      "1/1 - 0s - loss: 0.1345 - val_loss: 1.5573 - 38ms/epoch - 38ms/step\n",
      "Epoch 44/50\n",
      "1/1 - 0s - loss: 0.1589 - val_loss: 1.5659 - 39ms/epoch - 39ms/step\n",
      "Epoch 45/50\n",
      "1/1 - 0s - loss: 0.2037 - val_loss: 1.6193 - 38ms/epoch - 38ms/step\n",
      "Epoch 46/50\n",
      "1/1 - 0s - loss: 0.2163 - val_loss: 1.6643 - 38ms/epoch - 38ms/step\n",
      "Epoch 47/50\n",
      "1/1 - 0s - loss: 0.2136 - val_loss: 1.6633 - 38ms/epoch - 38ms/step\n",
      "Epoch 48/50\n",
      "1/1 - 0s - loss: 0.1795 - val_loss: 1.6236 - 39ms/epoch - 39ms/step\n",
      "Epoch 49/50\n",
      "1/1 - 0s - loss: 0.0960 - val_loss: 1.5284 - 42ms/epoch - 42ms/step\n",
      "Epoch 50/50\n",
      "1/1 - 0s - loss: 0.1523 - val_loss: 1.5253 - 40ms/epoch - 40ms/step\n"
     ]
    },
    {
     "data": {
      "image/png": "[encoded data removed]",
      "text/plain": [
       "<Figure size 640x480 with 1 Axes>"
      ]
     },
     "metadata": {},
     "output_type": "display_data"
    }
   ],
   "source": [
    "# split into train and test sets\n",
    "values = reframed.values\n",
    "n_train_hours = 1 # 4주\n",
    "train = values[:n_train_hours, :]\n",
    "test = values[n_train_hours:, :]\n",
    "# split into input and outputs\n",
    "train_X, train_y = train[:, :-8], train[:, -8:]\n",
    "test_X, test_y = test[:, :-8], test[:, -8:]\n",
    "# reshape input to be 3D [samples, timesteps, features]\n",
    "train_X = train_X.reshape((train_X.shape[0], 1, train_X.shape[1]))\n",
    "test_X = test_X.reshape((test_X.shape[0], 1, test_X.shape[1]))\n",
    "print(train_X.shape, train_y.shape, test_X.shape, test_y.shape)\n",
    "\n",
    "import tensorflow as tf\n",
    "from tensorflow.keras.models import Sequential\n",
    "from tensorflow.keras.layers import Dense\n",
    "from tensorflow.keras.layers import LSTM\n",
    "from tensorflow.keras import optimizers\n",
    "# design network\n",
    "learning_rate=0.01\n",
    "model = Sequential()\n",
    "model.add(LSTM(50, input_shape=(train_X.shape[1], train_X.shape[2])))\n",
    "model.add(Dense(100))\n",
    "model.add(Dense(8))\n",
    "model.compile(optimizer=optimizers.Adam(learning_rate=learning_rate), loss='mae')\n",
    "# fit network\n",
    "history = model.fit(train_X, train_y, epochs=50, batch_size=16, validation_data=(test_X, test_y), verbose=2, shuffle=False)\n",
    "# plot history\n",
    "plt.plot(history.history['loss'], label='train')\n",
    "plt.plot(history.history['val_loss'], label='test')\n",
    "plt.legend()\n",
    "plt.show()"
   ]
  },
  {
   "cell_type": "code",
   "execution_count": 39,
   "id": "f1d33e42",
   "metadata": {},
   "outputs": [
    {
     "data": {
      "text/plain": [
       "1"
      ]
     },
     "execution_count": 39,
     "metadata": {},
     "output_type": "execute_result"
    }
   ],
   "source": [
    "features= test_X.shape[1]\n",
    "features"
   ]
  },
  {
   "cell_type": "code",
   "execution_count": 38,
   "id": "50feba83",
   "metadata": {},
   "outputs": [
    {
     "ename": "TypeError",
     "evalue": "'int' object is not iterable",
     "output_type": "error",
     "traceback": [
      "\u001b[1;31m---------------------------------------------------------------------------\u001b[0m",
      "\u001b[1;31mTypeError\u001b[0m                                 Traceback (most recent call last)",
      "Cell \u001b[1;32mIn[38], line 2\u001b[0m\n\u001b[0;32m      1\u001b[0m \u001b[38;5;28;01mfrom\u001b[39;00m \u001b[38;5;21;01mipywidgets\u001b[39;00m \u001b[38;5;28;01mimport\u001b[39;00m interact\n\u001b[1;32m----> 2\u001b[0m feature_dic \u001b[38;5;241m=\u001b[39m {ind:i \u001b[38;5;28;01mfor\u001b[39;00m ind, i \u001b[38;5;129;01min\u001b[39;00m \u001b[38;5;28;43menumerate\u001b[39;49m\u001b[43m(\u001b[49m\u001b[43mfeatures\u001b[49m\u001b[43m)\u001b[49m}\n\u001b[0;32m      4\u001b[0m \u001b[38;5;28;01mdef\u001b[39;00m \u001b[38;5;21mcompare_plot\u001b[39m(feature_n):\n\u001b[0;32m      5\u001b[0m     plt\u001b[38;5;241m.\u001b[39mfigure(figsize\u001b[38;5;241m=\u001b[39m(\u001b[38;5;241m15\u001b[39m,\u001b[38;5;241m7\u001b[39m))\n",
      "\u001b[1;31mTypeError\u001b[0m: 'int' object is not iterable"
     ]
    }
   ],
   "source": [
    "from ipywidgets import interact\n",
    "feature_dic = {ind:i for ind, i in enumerate(features)}\n",
    "\n",
    "def compare_plot(feature_n):\n",
    "    plt.figure(figsize=(15,7))\n",
    "    plt.title(feature_dic[feature_n])\n",
    "    plt.plot(yhat[:,feature_n],label='yhat')\n",
    "    plt.plot(test_y[:,feature_n],alpha=0.5,label='y')\n",
    "    # pyplot.plot(resid,label='resid',alpha=0.3)\n",
    "    plt.legend()\n",
    "interact(compare_plot,feature_n=[0,1,2,3])"
   ]
  },
  {
   "cell_type": "code",
   "execution_count": null,
   "id": "49b018d8",
   "metadata": {},
   "outputs": [],
   "source": []
  }
 ],
 "metadata": {
  "kernelspec": {
   "display_name": "Python 3 (ipykernel)",
   "language": "python",
   "name": "python3"
  },
  "language_info": {
   "codemirror_mode": {
    "name": "ipython",
    "version": 3
   },
   "file_extension": ".py",
   "mimetype": "text/x-python",
   "name": "python",
   "nbconvert_exporter": "python",
   "pygments_lexer": "ipython3",
   "version": "3.8.8"
  }
 },
 "nbformat": 4,
 "nbformat_minor": 5
}
