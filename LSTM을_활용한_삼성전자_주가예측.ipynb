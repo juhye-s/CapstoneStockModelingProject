{
 "cells": [
  {
   "cell_type": "markdown",
   "metadata": {
    "id": "z5Yo0m8YR-E_"
   },
   "source": [
    "# LSTM을 활용한 주가 예측 모델"
   ]
  },
  {
   "cell_type": "markdown",
   "metadata": {
    "id": "Pe68Un2gR-FK"
   },
   "source": [
    "이번 튜토리얼 에서는 다음과 같은 **프로세스 파이프라인**으로 주가 예측을 진행합니다.\n",
    "\n",
    "- FinanceDataReader를 활용하여 주가 데이터 받아오기\n",
    "- TensorFlow Dataset 클래스를 활용하여 주가 데이터 구축\n",
    "- LSTM 을 활용한 주가 예측 모델 구축"
   ]
  },
  {
   "cell_type": "markdown",
   "metadata": {
    "id": "KI1idlpAZu5N"
   },
   "source": []
  },
  {
   "cell_type": "markdown",
   "metadata": {
    "id": "rw_j45fCR-FN"
   },
   "source": [
    "## 필요한 모듈 import"
   ]
  },
  {
   "cell_type": "code",
   "execution_count": 1,
   "metadata": {
    "id": "9qAiPq8OR-FO"
   },
   "outputs": [],
   "source": [
    "import pandas as pd\n",
    "import numpy as np\n",
    "import matplotlib.pyplot as plt\n",
    "import seaborn as sns\n",
    "import warnings\n",
    "import os\n",
    "\n",
    "%matplotlib inline\n",
    "warnings.filterwarnings('ignore')\n",
    "\n",
    "plt.rcParams['font.family'] = 'NanumGothic'"
   ]
  },
  {
   "cell_type": "markdown",
   "metadata": {
    "id": "eUas6f7vR-FR"
   },
   "source": [
    "## 데이터 (FinanceDataReader)"
   ]
  },
  {
   "cell_type": "markdown",
   "metadata": {
    "id": "zc27nuLBR-FR"
   },
   "source": [
    "**FinanceDataReader**는 주가 데이터를 편리하게 가져올 수 있는 파이썬 패키지입니다.\n",
    "\n",
    "- [GitHub Repo](https://github.com/FinanceData/FinanceDataReader)"
   ]
  },
  {
   "cell_type": "markdown",
   "metadata": {
    "id": "1LGBKpK3R-FS"
   },
   "source": [
    "**FinanceDataReader**가 아직 설치 되지 않으신 분들은 아래의 주석을 해제한 후 명령어로 설치해 주시기 바랍니다."
   ]
  },
  {
   "cell_type": "code",
   "execution_count": 4,
   "metadata": {
    "colab": {
     "base_uri": "https://localhost:8080/"
    },
    "id": "f3fhMQz-R-FT",
    "outputId": "17d76210-f500-474b-9fdd-712c22ea5a55"
   },
   "outputs": [
    {
     "name": "stdout",
     "output_type": "stream",
     "text": [
      "Looking in indexes: https://pypi.org/simple, https://us-python.pkg.dev/colab-wheels/public/simple/\n",
      "Collecting finance-datareader\n",
      "  Downloading finance_datareader-0.9.50-py3-none-any.whl (19 kB)\n",
      "Requirement already satisfied: lxml in /usr/local/lib/python3.9/dist-packages (from finance-datareader) (4.9.2)\n",
      "Requirement already satisfied: tqdm in /usr/local/lib/python3.9/dist-packages (from finance-datareader) (4.65.0)\n",
      "Requirement already satisfied: requests>=2.3.0 in /usr/local/lib/python3.9/dist-packages (from finance-datareader) (2.27.1)\n",
      "Collecting requests-file\n",
      "  Downloading requests_file-1.5.1-py2.py3-none-any.whl (3.7 kB)\n",
      "Requirement already satisfied: pandas>=0.19.2 in /usr/local/lib/python3.9/dist-packages (from finance-datareader) (1.4.4)\n",
      "Requirement already satisfied: pytz>=2020.1 in /usr/local/lib/python3.9/dist-packages (from pandas>=0.19.2->finance-datareader) (2022.7.1)\n",
      "Requirement already satisfied: numpy>=1.18.5 in /usr/local/lib/python3.9/dist-packages (from pandas>=0.19.2->finance-datareader) (1.22.4)\n",
      "Requirement already satisfied: python-dateutil>=2.8.1 in /usr/local/lib/python3.9/dist-packages (from pandas>=0.19.2->finance-datareader) (2.8.2)\n",
      "Requirement already satisfied: idna<4,>=2.5 in /usr/local/lib/python3.9/dist-packages (from requests>=2.3.0->finance-datareader) (3.4)\n",
      "Requirement already satisfied: urllib3<1.27,>=1.21.1 in /usr/local/lib/python3.9/dist-packages (from requests>=2.3.0->finance-datareader) (1.26.15)\n",
      "Requirement already satisfied: charset-normalizer~=2.0.0 in /usr/local/lib/python3.9/dist-packages (from requests>=2.3.0->finance-datareader) (2.0.12)\n",
      "Requirement already satisfied: certifi>=2017.4.17 in /usr/local/lib/python3.9/dist-packages (from requests>=2.3.0->finance-datareader) (2022.12.7)\n",
      "Requirement already satisfied: six in /usr/local/lib/python3.9/dist-packages (from requests-file->finance-datareader) (1.16.0)\n",
      "Installing collected packages: requests-file, finance-datareader\n",
      "Successfully installed finance-datareader-0.9.50 requests-file-1.5.1\n"
     ]
    }
   ],
   "source": [
    "!pip install finance-datareader"
   ]
  },
  {
   "cell_type": "code",
   "execution_count": 5,
   "metadata": {
    "id": "IMa8Qzq9R-FU"
   },
   "outputs": [],
   "source": [
    "import FinanceDataReader as fdr"
   ]
  },
  {
   "cell_type": "code",
   "execution_count": 6,
   "metadata": {
    "id": "20pA_9gpR-FV"
   },
   "outputs": [],
   "source": [
    "# 삼성전자(005930) 전체 (1996-11-05 ~ 현재)\n",
    "samsung = fdr.DataReader('005930')"
   ]
  },
  {
   "cell_type": "markdown",
   "metadata": {
    "id": "kO6y_Tx7R-FY"
   },
   "source": [
    "매우 편리하게 삼성전자 주가 데이터를 `DataFrame`형식으로 받아옵니다.\n",
    "\n",
    "기본 **오름차순 정렬**이 된 데이터임을 알 수 있습니다.\n",
    "\n",
    "### 컬럼 설명\n",
    "\n",
    "- `Open`:   시가\n",
    "- `High`:   고가\n",
    "- `Low`:    저가\n",
    "- `Close`:  종가\n",
    "- `Volume`: 거래량\n",
    "- `Change`: 대비"
   ]
  },
  {
   "cell_type": "code",
   "execution_count": 7,
   "metadata": {
    "colab": {
     "base_uri": "https://localhost:8080/",
     "height": 237
    },
    "id": "phFV2SX8R-FZ",
    "outputId": "e945273a-cd4f-40f7-e10c-d1822b1bc98b"
   },
   "outputs": [
    {
     "data": {
      "text/html": [
       "\n",
       "  <div id=\"df-a6868f6d-c4b5-4282-a2dc-70db625b2b8e\">\n",
       "    <div class=\"colab-df-container\">\n",
       "      <div>\n",
       "<style scoped>\n",
       "    .dataframe tbody tr th:only-of-type {\n",
       "        vertical-align: middle;\n",
       "    }\n",
       "\n",
       "    .dataframe tbody tr th {\n",
       "        vertical-align: top;\n",
       "    }\n",
       "\n",
       "    .dataframe thead th {\n",
       "        text-align: right;\n",
       "    }\n",
       "</style>\n",
       "<table border=\"1\" class=\"dataframe\">\n",
       "  <thead>\n",
       "    <tr style=\"text-align: right;\">\n",
       "      <th></th>\n",
       "      <th>Open</th>\n",
       "      <th>High</th>\n",
       "      <th>Low</th>\n",
       "      <th>Close</th>\n",
       "      <th>Volume</th>\n",
       "      <th>Change</th>\n",
       "    </tr>\n",
       "    <tr>\n",
       "      <th>Date</th>\n",
       "      <th></th>\n",
       "      <th></th>\n",
       "      <th></th>\n",
       "      <th></th>\n",
       "      <th></th>\n",
       "      <th></th>\n",
       "    </tr>\n",
       "  </thead>\n",
       "  <tbody>\n",
       "    <tr>\n",
       "      <th>2023-03-28</th>\n",
       "      <td>62400</td>\n",
       "      <td>62900</td>\n",
       "      <td>62100</td>\n",
       "      <td>62900</td>\n",
       "      <td>11614118</td>\n",
       "      <td>0.012882</td>\n",
       "    </tr>\n",
       "    <tr>\n",
       "      <th>2023-03-29</th>\n",
       "      <td>62500</td>\n",
       "      <td>62700</td>\n",
       "      <td>62200</td>\n",
       "      <td>62700</td>\n",
       "      <td>11216008</td>\n",
       "      <td>-0.003180</td>\n",
       "    </tr>\n",
       "    <tr>\n",
       "      <th>2023-03-30</th>\n",
       "      <td>63700</td>\n",
       "      <td>63700</td>\n",
       "      <td>63100</td>\n",
       "      <td>63200</td>\n",
       "      <td>15684377</td>\n",
       "      <td>0.007974</td>\n",
       "    </tr>\n",
       "    <tr>\n",
       "      <th>2023-03-31</th>\n",
       "      <td>64000</td>\n",
       "      <td>64000</td>\n",
       "      <td>63700</td>\n",
       "      <td>64000</td>\n",
       "      <td>14094479</td>\n",
       "      <td>0.012658</td>\n",
       "    </tr>\n",
       "    <tr>\n",
       "      <th>2023-04-03</th>\n",
       "      <td>64000</td>\n",
       "      <td>64000</td>\n",
       "      <td>63000</td>\n",
       "      <td>63200</td>\n",
       "      <td>9049488</td>\n",
       "      <td>-0.012500</td>\n",
       "    </tr>\n",
       "  </tbody>\n",
       "</table>\n",
       "</div>\n",
       "      <button class=\"colab-df-convert\" onclick=\"convertToInteractive('df-a6868f6d-c4b5-4282-a2dc-70db625b2b8e')\"\n",
       "              title=\"Convert this dataframe to an interactive table.\"\n",
       "              style=\"display:none;\">\n",
       "        \n",
       "  <svg xmlns=\"http://www.w3.org/2000/svg\" height=\"24px\"viewBox=\"0 0 24 24\"\n",
       "       width=\"24px\">\n",
       "    <path d=\"M0 0h24v24H0V0z\" fill=\"none\"/>\n",
       "    <path d=\"M18.56 5.44l.94 2.06.94-2.06 2.06-.94-2.06-.94-.94-2.06-.94 2.06-2.06.94zm-11 1L8.5 8.5l.94-2.06 2.06-.94-2.06-.94L8.5 2.5l-.94 2.06-2.06.94zm10 10l.94 2.06.94-2.06 2.06-.94-2.06-.94-.94-2.06-.94 2.06-2.06.94z\"/><path d=\"M17.41 7.96l-1.37-1.37c-.4-.4-.92-.59-1.43-.59-.52 0-1.04.2-1.43.59L10.3 9.45l-7.72 7.72c-.78.78-.78 2.05 0 2.83L4 21.41c.39.39.9.59 1.41.59.51 0 1.02-.2 1.41-.59l7.78-7.78 2.81-2.81c.8-.78.8-2.07 0-2.86zM5.41 20L4 18.59l7.72-7.72 1.47 1.35L5.41 20z\"/>\n",
       "  </svg>\n",
       "      </button>\n",
       "      \n",
       "  <style>\n",
       "    .colab-df-container {\n",
       "      display:flex;\n",
       "      flex-wrap:wrap;\n",
       "      gap: 12px;\n",
       "    }\n",
       "\n",
       "    .colab-df-convert {\n",
       "      background-color: #E8F0FE;\n",
       "      border: none;\n",
       "      border-radius: 50%;\n",
       "      cursor: pointer;\n",
       "      display: none;\n",
       "      fill: #1967D2;\n",
       "      height: 32px;\n",
       "      padding: 0 0 0 0;\n",
       "      width: 32px;\n",
       "    }\n",
       "\n",
       "    .colab-df-convert:hover {\n",
       "      background-color: #E2EBFA;\n",
       "      box-shadow: 0px 1px 2px rgba(60, 64, 67, 0.3), 0px 1px 3px 1px rgba(60, 64, 67, 0.15);\n",
       "      fill: #174EA6;\n",
       "    }\n",
       "\n",
       "    [theme=dark] .colab-df-convert {\n",
       "      background-color: #3B4455;\n",
       "      fill: #D2E3FC;\n",
       "    }\n",
       "\n",
       "    [theme=dark] .colab-df-convert:hover {\n",
       "      background-color: #434B5C;\n",
       "      box-shadow: 0px 1px 3px 1px rgba(0, 0, 0, 0.15);\n",
       "      filter: drop-shadow(0px 1px 2px rgba(0, 0, 0, 0.3));\n",
       "      fill: #FFFFFF;\n",
       "    }\n",
       "  </style>\n",
       "\n",
       "      <script>\n",
       "        const buttonEl =\n",
       "          document.querySelector('#df-a6868f6d-c4b5-4282-a2dc-70db625b2b8e button.colab-df-convert');\n",
       "        buttonEl.style.display =\n",
       "          google.colab.kernel.accessAllowed ? 'block' : 'none';\n",
       "\n",
       "        async function convertToInteractive(key) {\n",
       "          const element = document.querySelector('#df-a6868f6d-c4b5-4282-a2dc-70db625b2b8e');\n",
       "          const dataTable =\n",
       "            await google.colab.kernel.invokeFunction('convertToInteractive',\n",
       "                                                     [key], {});\n",
       "          if (!dataTable) return;\n",
       "\n",
       "          const docLinkHtml = 'Like what you see? Visit the ' +\n",
       "            '<a target=\"_blank\" href=https://colab.research.google.com/notebooks/data_table.ipynb>data table notebook</a>'\n",
       "            + ' to learn more about interactive tables.';\n",
       "          element.innerHTML = '';\n",
       "          dataTable['output_type'] = 'display_data';\n",
       "          await google.colab.output.renderOutput(dataTable, element);\n",
       "          const docLink = document.createElement('div');\n",
       "          docLink.innerHTML = docLinkHtml;\n",
       "          element.appendChild(docLink);\n",
       "        }\n",
       "      </script>\n",
       "    </div>\n",
       "  </div>\n",
       "  "
      ],
      "text/plain": [
       "             Open   High    Low  Close    Volume    Change\n",
       "Date                                                      \n",
       "2023-03-28  62400  62900  62100  62900  11614118  0.012882\n",
       "2023-03-29  62500  62700  62200  62700  11216008 -0.003180\n",
       "2023-03-30  63700  63700  63100  63200  15684377  0.007974\n",
       "2023-03-31  64000  64000  63700  64000  14094479  0.012658\n",
       "2023-04-03  64000  64000  63000  63200   9049488 -0.012500"
      ]
     },
     "execution_count": 7,
     "metadata": {},
     "output_type": "execute_result"
    }
   ],
   "source": [
    "samsung.tail()"
   ]
  },
  {
   "cell_type": "markdown",
   "metadata": {
    "id": "q5Iv_5LHR-Fb"
   },
   "source": [
    "**미국 주식 데이터**도 가져올 수 있습니다."
   ]
  },
  {
   "cell_type": "code",
   "execution_count": 8,
   "metadata": {
    "id": "pnkK7pilR-Fc"
   },
   "outputs": [],
   "source": [
    "# Apple(AAPL), 애플\n",
    "apple = fdr.DataReader('AAPL')"
   ]
  },
  {
   "cell_type": "code",
   "execution_count": 9,
   "metadata": {
    "colab": {
     "base_uri": "https://localhost:8080/",
     "height": 237
    },
    "id": "r4V1hyEzR-Fc",
    "outputId": "ade04db7-a864-4b13-f3a5-acff507ba9ec"
   },
   "outputs": [
    {
     "data": {
      "text/html": [
       "\n",
       "  <div id=\"df-8e1e7eaa-02f8-418d-a725-0976fd14e8c9\">\n",
       "    <div class=\"colab-df-container\">\n",
       "      <div>\n",
       "<style scoped>\n",
       "    .dataframe tbody tr th:only-of-type {\n",
       "        vertical-align: middle;\n",
       "    }\n",
       "\n",
       "    .dataframe tbody tr th {\n",
       "        vertical-align: top;\n",
       "    }\n",
       "\n",
       "    .dataframe thead th {\n",
       "        text-align: right;\n",
       "    }\n",
       "</style>\n",
       "<table border=\"1\" class=\"dataframe\">\n",
       "  <thead>\n",
       "    <tr style=\"text-align: right;\">\n",
       "      <th></th>\n",
       "      <th>Open</th>\n",
       "      <th>High</th>\n",
       "      <th>Low</th>\n",
       "      <th>Close</th>\n",
       "      <th>Adj Close</th>\n",
       "      <th>Volume</th>\n",
       "    </tr>\n",
       "    <tr>\n",
       "      <th>Date</th>\n",
       "      <th></th>\n",
       "      <th></th>\n",
       "      <th></th>\n",
       "      <th></th>\n",
       "      <th></th>\n",
       "      <th></th>\n",
       "    </tr>\n",
       "  </thead>\n",
       "  <tbody>\n",
       "    <tr>\n",
       "      <th>2023-03-27</th>\n",
       "      <td>159.940002</td>\n",
       "      <td>160.770004</td>\n",
       "      <td>157.869995</td>\n",
       "      <td>158.279999</td>\n",
       "      <td>158.279999</td>\n",
       "      <td>52390300</td>\n",
       "    </tr>\n",
       "    <tr>\n",
       "      <th>2023-03-28</th>\n",
       "      <td>157.970001</td>\n",
       "      <td>158.490005</td>\n",
       "      <td>155.979996</td>\n",
       "      <td>157.649994</td>\n",
       "      <td>157.649994</td>\n",
       "      <td>45992200</td>\n",
       "    </tr>\n",
       "    <tr>\n",
       "      <th>2023-03-29</th>\n",
       "      <td>159.369995</td>\n",
       "      <td>161.050003</td>\n",
       "      <td>159.350006</td>\n",
       "      <td>160.770004</td>\n",
       "      <td>160.770004</td>\n",
       "      <td>51305700</td>\n",
       "    </tr>\n",
       "    <tr>\n",
       "      <th>2023-03-30</th>\n",
       "      <td>161.529999</td>\n",
       "      <td>162.470001</td>\n",
       "      <td>161.270004</td>\n",
       "      <td>162.360001</td>\n",
       "      <td>162.360001</td>\n",
       "      <td>49501700</td>\n",
       "    </tr>\n",
       "    <tr>\n",
       "      <th>2023-03-31</th>\n",
       "      <td>162.440002</td>\n",
       "      <td>165.000000</td>\n",
       "      <td>161.910004</td>\n",
       "      <td>164.899994</td>\n",
       "      <td>164.899994</td>\n",
       "      <td>68694700</td>\n",
       "    </tr>\n",
       "  </tbody>\n",
       "</table>\n",
       "</div>\n",
       "      <button class=\"colab-df-convert\" onclick=\"convertToInteractive('df-8e1e7eaa-02f8-418d-a725-0976fd14e8c9')\"\n",
       "              title=\"Convert this dataframe to an interactive table.\"\n",
       "              style=\"display:none;\">\n",
       "        \n",
       "  <svg xmlns=\"http://www.w3.org/2000/svg\" height=\"24px\"viewBox=\"0 0 24 24\"\n",
       "       width=\"24px\">\n",
       "    <path d=\"M0 0h24v24H0V0z\" fill=\"none\"/>\n",
       "    <path d=\"M18.56 5.44l.94 2.06.94-2.06 2.06-.94-2.06-.94-.94-2.06-.94 2.06-2.06.94zm-11 1L8.5 8.5l.94-2.06 2.06-.94-2.06-.94L8.5 2.5l-.94 2.06-2.06.94zm10 10l.94 2.06.94-2.06 2.06-.94-2.06-.94-.94-2.06-.94 2.06-2.06.94z\"/><path d=\"M17.41 7.96l-1.37-1.37c-.4-.4-.92-.59-1.43-.59-.52 0-1.04.2-1.43.59L10.3 9.45l-7.72 7.72c-.78.78-.78 2.05 0 2.83L4 21.41c.39.39.9.59 1.41.59.51 0 1.02-.2 1.41-.59l7.78-7.78 2.81-2.81c.8-.78.8-2.07 0-2.86zM5.41 20L4 18.59l7.72-7.72 1.47 1.35L5.41 20z\"/>\n",
       "  </svg>\n",
       "      </button>\n",
       "      \n",
       "  <style>\n",
       "    .colab-df-container {\n",
       "      display:flex;\n",
       "      flex-wrap:wrap;\n",
       "      gap: 12px;\n",
       "    }\n",
       "\n",
       "    .colab-df-convert {\n",
       "      background-color: #E8F0FE;\n",
       "      border: none;\n",
       "      border-radius: 50%;\n",
       "      cursor: pointer;\n",
       "      display: none;\n",
       "      fill: #1967D2;\n",
       "      height: 32px;\n",
       "      padding: 0 0 0 0;\n",
       "      width: 32px;\n",
       "    }\n",
       "\n",
       "    .colab-df-convert:hover {\n",
       "      background-color: #E2EBFA;\n",
       "      box-shadow: 0px 1px 2px rgba(60, 64, 67, 0.3), 0px 1px 3px 1px rgba(60, 64, 67, 0.15);\n",
       "      fill: #174EA6;\n",
       "    }\n",
       "\n",
       "    [theme=dark] .colab-df-convert {\n",
       "      background-color: #3B4455;\n",
       "      fill: #D2E3FC;\n",
       "    }\n",
       "\n",
       "    [theme=dark] .colab-df-convert:hover {\n",
       "      background-color: #434B5C;\n",
       "      box-shadow: 0px 1px 3px 1px rgba(0, 0, 0, 0.15);\n",
       "      filter: drop-shadow(0px 1px 2px rgba(0, 0, 0, 0.3));\n",
       "      fill: #FFFFFF;\n",
       "    }\n",
       "  </style>\n",
       "\n",
       "      <script>\n",
       "        const buttonEl =\n",
       "          document.querySelector('#df-8e1e7eaa-02f8-418d-a725-0976fd14e8c9 button.colab-df-convert');\n",
       "        buttonEl.style.display =\n",
       "          google.colab.kernel.accessAllowed ? 'block' : 'none';\n",
       "\n",
       "        async function convertToInteractive(key) {\n",
       "          const element = document.querySelector('#df-8e1e7eaa-02f8-418d-a725-0976fd14e8c9');\n",
       "          const dataTable =\n",
       "            await google.colab.kernel.invokeFunction('convertToInteractive',\n",
       "                                                     [key], {});\n",
       "          if (!dataTable) return;\n",
       "\n",
       "          const docLinkHtml = 'Like what you see? Visit the ' +\n",
       "            '<a target=\"_blank\" href=https://colab.research.google.com/notebooks/data_table.ipynb>data table notebook</a>'\n",
       "            + ' to learn more about interactive tables.';\n",
       "          element.innerHTML = '';\n",
       "          dataTable['output_type'] = 'display_data';\n",
       "          await google.colab.output.renderOutput(dataTable, element);\n",
       "          const docLink = document.createElement('div');\n",
       "          docLink.innerHTML = docLinkHtml;\n",
       "          element.appendChild(docLink);\n",
       "        }\n",
       "      </script>\n",
       "    </div>\n",
       "  </div>\n",
       "  "
      ],
      "text/plain": [
       "                  Open        High         Low       Close   Adj Close  \\\n",
       "Date                                                                     \n",
       "2023-03-27  159.940002  160.770004  157.869995  158.279999  158.279999   \n",
       "2023-03-28  157.970001  158.490005  155.979996  157.649994  157.649994   \n",
       "2023-03-29  159.369995  161.050003  159.350006  160.770004  160.770004   \n",
       "2023-03-30  161.529999  162.470001  161.270004  162.360001  162.360001   \n",
       "2023-03-31  162.440002  165.000000  161.910004  164.899994  164.899994   \n",
       "\n",
       "              Volume  \n",
       "Date                  \n",
       "2023-03-27  52390300  \n",
       "2023-03-28  45992200  \n",
       "2023-03-29  51305700  \n",
       "2023-03-30  49501700  \n",
       "2023-03-31  68694700  "
      ]
     },
     "execution_count": 9,
     "metadata": {},
     "output_type": "execute_result"
    }
   ],
   "source": [
    "apple.tail()"
   ]
  },
  {
   "cell_type": "markdown",
   "metadata": {
    "id": "pIyhgm7cR-Fe"
   },
   "source": [
    "다음과 같이 `2017`을 같이 넘겨주면, 해당 시점 이후의 주식 데이터를 가져옵니다."
   ]
  },
  {
   "cell_type": "code",
   "execution_count": 10,
   "metadata": {
    "id": "CsKyGB8aR-Fe"
   },
   "outputs": [],
   "source": [
    "# Apple(AAPL), 애플\n",
    "apple = fdr.DataReader('AAPL', '2017')"
   ]
  },
  {
   "cell_type": "code",
   "execution_count": 11,
   "metadata": {
    "colab": {
     "base_uri": "https://localhost:8080/",
     "height": 237
    },
    "id": "BDuHTCXoR-Ff",
    "outputId": "68fc273f-ee31-40ff-a441-b398856db820"
   },
   "outputs": [
    {
     "data": {
      "text/html": [
       "\n",
       "  <div id=\"df-ab1b43c2-588b-419d-9b2d-78ca3fea5698\">\n",
       "    <div class=\"colab-df-container\">\n",
       "      <div>\n",
       "<style scoped>\n",
       "    .dataframe tbody tr th:only-of-type {\n",
       "        vertical-align: middle;\n",
       "    }\n",
       "\n",
       "    .dataframe tbody tr th {\n",
       "        vertical-align: top;\n",
       "    }\n",
       "\n",
       "    .dataframe thead th {\n",
       "        text-align: right;\n",
       "    }\n",
       "</style>\n",
       "<table border=\"1\" class=\"dataframe\">\n",
       "  <thead>\n",
       "    <tr style=\"text-align: right;\">\n",
       "      <th></th>\n",
       "      <th>Open</th>\n",
       "      <th>High</th>\n",
       "      <th>Low</th>\n",
       "      <th>Close</th>\n",
       "      <th>Adj Close</th>\n",
       "      <th>Volume</th>\n",
       "    </tr>\n",
       "    <tr>\n",
       "      <th>Date</th>\n",
       "      <th></th>\n",
       "      <th></th>\n",
       "      <th></th>\n",
       "      <th></th>\n",
       "      <th></th>\n",
       "      <th></th>\n",
       "    </tr>\n",
       "  </thead>\n",
       "  <tbody>\n",
       "    <tr>\n",
       "      <th>2017-01-03</th>\n",
       "      <td>28.950001</td>\n",
       "      <td>29.082500</td>\n",
       "      <td>28.690001</td>\n",
       "      <td>29.037500</td>\n",
       "      <td>27.133326</td>\n",
       "      <td>115127600</td>\n",
       "    </tr>\n",
       "    <tr>\n",
       "      <th>2017-01-04</th>\n",
       "      <td>28.962500</td>\n",
       "      <td>29.127501</td>\n",
       "      <td>28.937500</td>\n",
       "      <td>29.004999</td>\n",
       "      <td>27.102953</td>\n",
       "      <td>84472400</td>\n",
       "    </tr>\n",
       "    <tr>\n",
       "      <th>2017-01-05</th>\n",
       "      <td>28.980000</td>\n",
       "      <td>29.215000</td>\n",
       "      <td>28.952499</td>\n",
       "      <td>29.152500</td>\n",
       "      <td>27.240786</td>\n",
       "      <td>88774400</td>\n",
       "    </tr>\n",
       "    <tr>\n",
       "      <th>2017-01-06</th>\n",
       "      <td>29.195000</td>\n",
       "      <td>29.540001</td>\n",
       "      <td>29.117500</td>\n",
       "      <td>29.477501</td>\n",
       "      <td>27.544470</td>\n",
       "      <td>127007600</td>\n",
       "    </tr>\n",
       "    <tr>\n",
       "      <th>2017-01-09</th>\n",
       "      <td>29.487499</td>\n",
       "      <td>29.857500</td>\n",
       "      <td>29.485001</td>\n",
       "      <td>29.747499</td>\n",
       "      <td>27.796768</td>\n",
       "      <td>134247600</td>\n",
       "    </tr>\n",
       "  </tbody>\n",
       "</table>\n",
       "</div>\n",
       "      <button class=\"colab-df-convert\" onclick=\"convertToInteractive('df-ab1b43c2-588b-419d-9b2d-78ca3fea5698')\"\n",
       "              title=\"Convert this dataframe to an interactive table.\"\n",
       "              style=\"display:none;\">\n",
       "        \n",
       "  <svg xmlns=\"http://www.w3.org/2000/svg\" height=\"24px\"viewBox=\"0 0 24 24\"\n",
       "       width=\"24px\">\n",
       "    <path d=\"M0 0h24v24H0V0z\" fill=\"none\"/>\n",
       "    <path d=\"M18.56 5.44l.94 2.06.94-2.06 2.06-.94-2.06-.94-.94-2.06-.94 2.06-2.06.94zm-11 1L8.5 8.5l.94-2.06 2.06-.94-2.06-.94L8.5 2.5l-.94 2.06-2.06.94zm10 10l.94 2.06.94-2.06 2.06-.94-2.06-.94-.94-2.06-.94 2.06-2.06.94z\"/><path d=\"M17.41 7.96l-1.37-1.37c-.4-.4-.92-.59-1.43-.59-.52 0-1.04.2-1.43.59L10.3 9.45l-7.72 7.72c-.78.78-.78 2.05 0 2.83L4 21.41c.39.39.9.59 1.41.59.51 0 1.02-.2 1.41-.59l7.78-7.78 2.81-2.81c.8-.78.8-2.07 0-2.86zM5.41 20L4 18.59l7.72-7.72 1.47 1.35L5.41 20z\"/>\n",
       "  </svg>\n",
       "      </button>\n",
       "      \n",
       "  <style>\n",
       "    .colab-df-container {\n",
       "      display:flex;\n",
       "      flex-wrap:wrap;\n",
       "      gap: 12px;\n",
       "    }\n",
       "\n",
       "    .colab-df-convert {\n",
       "      background-color: #E8F0FE;\n",
       "      border: none;\n",
       "      border-radius: 50%;\n",
       "      cursor: pointer;\n",
       "      display: none;\n",
       "      fill: #1967D2;\n",
       "      height: 32px;\n",
       "      padding: 0 0 0 0;\n",
       "      width: 32px;\n",
       "    }\n",
       "\n",
       "    .colab-df-convert:hover {\n",
       "      background-color: #E2EBFA;\n",
       "      box-shadow: 0px 1px 2px rgba(60, 64, 67, 0.3), 0px 1px 3px 1px rgba(60, 64, 67, 0.15);\n",
       "      fill: #174EA6;\n",
       "    }\n",
       "\n",
       "    [theme=dark] .colab-df-convert {\n",
       "      background-color: #3B4455;\n",
       "      fill: #D2E3FC;\n",
       "    }\n",
       "\n",
       "    [theme=dark] .colab-df-convert:hover {\n",
       "      background-color: #434B5C;\n",
       "      box-shadow: 0px 1px 3px 1px rgba(0, 0, 0, 0.15);\n",
       "      filter: drop-shadow(0px 1px 2px rgba(0, 0, 0, 0.3));\n",
       "      fill: #FFFFFF;\n",
       "    }\n",
       "  </style>\n",
       "\n",
       "      <script>\n",
       "        const buttonEl =\n",
       "          document.querySelector('#df-ab1b43c2-588b-419d-9b2d-78ca3fea5698 button.colab-df-convert');\n",
       "        buttonEl.style.display =\n",
       "          google.colab.kernel.accessAllowed ? 'block' : 'none';\n",
       "\n",
       "        async function convertToInteractive(key) {\n",
       "          const element = document.querySelector('#df-ab1b43c2-588b-419d-9b2d-78ca3fea5698');\n",
       "          const dataTable =\n",
       "            await google.colab.kernel.invokeFunction('convertToInteractive',\n",
       "                                                     [key], {});\n",
       "          if (!dataTable) return;\n",
       "\n",
       "          const docLinkHtml = 'Like what you see? Visit the ' +\n",
       "            '<a target=\"_blank\" href=https://colab.research.google.com/notebooks/data_table.ipynb>data table notebook</a>'\n",
       "            + ' to learn more about interactive tables.';\n",
       "          element.innerHTML = '';\n",
       "          dataTable['output_type'] = 'display_data';\n",
       "          await google.colab.output.renderOutput(dataTable, element);\n",
       "          const docLink = document.createElement('div');\n",
       "          docLink.innerHTML = docLinkHtml;\n",
       "          element.appendChild(docLink);\n",
       "        }\n",
       "      </script>\n",
       "    </div>\n",
       "  </div>\n",
       "  "
      ],
      "text/plain": [
       "                 Open       High        Low      Close  Adj Close     Volume\n",
       "Date                                                                        \n",
       "2017-01-03  28.950001  29.082500  28.690001  29.037500  27.133326  115127600\n",
       "2017-01-04  28.962500  29.127501  28.937500  29.004999  27.102953   84472400\n",
       "2017-01-05  28.980000  29.215000  28.952499  29.152500  27.240786   88774400\n",
       "2017-01-06  29.195000  29.540001  29.117500  29.477501  27.544470  127007600\n",
       "2017-01-09  29.487499  29.857500  29.485001  29.747499  27.796768  134247600"
      ]
     },
     "execution_count": 11,
     "metadata": {},
     "output_type": "execute_result"
    }
   ],
   "source": [
    "apple.head()"
   ]
  },
  {
   "cell_type": "markdown",
   "metadata": {
    "id": "PZBvSbFwR-Fg"
   },
   "source": [
    "**시작**과 **끝** 날짜를 지정하여 범위 데이터를 가져올 수 있습니다."
   ]
  },
  {
   "cell_type": "code",
   "execution_count": 12,
   "metadata": {
    "id": "ta9WK-6ZR-Fg"
   },
   "outputs": [],
   "source": [
    "# Ford(F), 1980-01-01 ~ 2019-12-30 (40년 데이터)\n",
    "ford = fdr.DataReader('F', '1980-01-01', '2019-12-30')"
   ]
  },
  {
   "cell_type": "code",
   "execution_count": 13,
   "metadata": {
    "colab": {
     "base_uri": "https://localhost:8080/",
     "height": 237
    },
    "id": "F4E9EROyR-Fh",
    "outputId": "8be769b7-6175-4f04-8226-d13059d24dca"
   },
   "outputs": [
    {
     "data": {
      "text/html": [
       "\n",
       "  <div id=\"df-d64b94b3-f04d-4dc8-9042-68e7dd6ea6c8\">\n",
       "    <div class=\"colab-df-container\">\n",
       "      <div>\n",
       "<style scoped>\n",
       "    .dataframe tbody tr th:only-of-type {\n",
       "        vertical-align: middle;\n",
       "    }\n",
       "\n",
       "    .dataframe tbody tr th {\n",
       "        vertical-align: top;\n",
       "    }\n",
       "\n",
       "    .dataframe thead th {\n",
       "        text-align: right;\n",
       "    }\n",
       "</style>\n",
       "<table border=\"1\" class=\"dataframe\">\n",
       "  <thead>\n",
       "    <tr style=\"text-align: right;\">\n",
       "      <th></th>\n",
       "      <th>Open</th>\n",
       "      <th>High</th>\n",
       "      <th>Low</th>\n",
       "      <th>Close</th>\n",
       "      <th>Adj Close</th>\n",
       "      <th>Volume</th>\n",
       "    </tr>\n",
       "    <tr>\n",
       "      <th>Date</th>\n",
       "      <th></th>\n",
       "      <th></th>\n",
       "      <th></th>\n",
       "      <th></th>\n",
       "      <th></th>\n",
       "      <th></th>\n",
       "    </tr>\n",
       "  </thead>\n",
       "  <tbody>\n",
       "    <tr>\n",
       "      <th>1980-01-02</th>\n",
       "      <td>1.297609</td>\n",
       "      <td>1.328022</td>\n",
       "      <td>1.287471</td>\n",
       "      <td>1.287471</td>\n",
       "      <td>0.249645</td>\n",
       "      <td>2044376</td>\n",
       "    </tr>\n",
       "    <tr>\n",
       "      <th>1980-01-03</th>\n",
       "      <td>1.287471</td>\n",
       "      <td>1.287471</td>\n",
       "      <td>1.267196</td>\n",
       "      <td>1.287471</td>\n",
       "      <td>0.249645</td>\n",
       "      <td>2816257</td>\n",
       "    </tr>\n",
       "    <tr>\n",
       "      <th>1980-01-04</th>\n",
       "      <td>1.287471</td>\n",
       "      <td>1.287471</td>\n",
       "      <td>1.272265</td>\n",
       "      <td>1.277334</td>\n",
       "      <td>0.247679</td>\n",
       "      <td>3038203</td>\n",
       "    </tr>\n",
       "    <tr>\n",
       "      <th>1980-01-07</th>\n",
       "      <td>1.277334</td>\n",
       "      <td>1.287471</td>\n",
       "      <td>1.267196</td>\n",
       "      <td>1.267196</td>\n",
       "      <td>0.245714</td>\n",
       "      <td>2251526</td>\n",
       "    </tr>\n",
       "    <tr>\n",
       "      <th>1980-01-08</th>\n",
       "      <td>1.267196</td>\n",
       "      <td>1.292540</td>\n",
       "      <td>1.257059</td>\n",
       "      <td>1.292540</td>\n",
       "      <td>0.250628</td>\n",
       "      <td>4069022</td>\n",
       "    </tr>\n",
       "  </tbody>\n",
       "</table>\n",
       "</div>\n",
       "      <button class=\"colab-df-convert\" onclick=\"convertToInteractive('df-d64b94b3-f04d-4dc8-9042-68e7dd6ea6c8')\"\n",
       "              title=\"Convert this dataframe to an interactive table.\"\n",
       "              style=\"display:none;\">\n",
       "        \n",
       "  <svg xmlns=\"http://www.w3.org/2000/svg\" height=\"24px\"viewBox=\"0 0 24 24\"\n",
       "       width=\"24px\">\n",
       "    <path d=\"M0 0h24v24H0V0z\" fill=\"none\"/>\n",
       "    <path d=\"M18.56 5.44l.94 2.06.94-2.06 2.06-.94-2.06-.94-.94-2.06-.94 2.06-2.06.94zm-11 1L8.5 8.5l.94-2.06 2.06-.94-2.06-.94L8.5 2.5l-.94 2.06-2.06.94zm10 10l.94 2.06.94-2.06 2.06-.94-2.06-.94-.94-2.06-.94 2.06-2.06.94z\"/><path d=\"M17.41 7.96l-1.37-1.37c-.4-.4-.92-.59-1.43-.59-.52 0-1.04.2-1.43.59L10.3 9.45l-7.72 7.72c-.78.78-.78 2.05 0 2.83L4 21.41c.39.39.9.59 1.41.59.51 0 1.02-.2 1.41-.59l7.78-7.78 2.81-2.81c.8-.78.8-2.07 0-2.86zM5.41 20L4 18.59l7.72-7.72 1.47 1.35L5.41 20z\"/>\n",
       "  </svg>\n",
       "      </button>\n",
       "      \n",
       "  <style>\n",
       "    .colab-df-container {\n",
       "      display:flex;\n",
       "      flex-wrap:wrap;\n",
       "      gap: 12px;\n",
       "    }\n",
       "\n",
       "    .colab-df-convert {\n",
       "      background-color: #E8F0FE;\n",
       "      border: none;\n",
       "      border-radius: 50%;\n",
       "      cursor: pointer;\n",
       "      display: none;\n",
       "      fill: #1967D2;\n",
       "      height: 32px;\n",
       "      padding: 0 0 0 0;\n",
       "      width: 32px;\n",
       "    }\n",
       "\n",
       "    .colab-df-convert:hover {\n",
       "      background-color: #E2EBFA;\n",
       "      box-shadow: 0px 1px 2px rgba(60, 64, 67, 0.3), 0px 1px 3px 1px rgba(60, 64, 67, 0.15);\n",
       "      fill: #174EA6;\n",
       "    }\n",
       "\n",
       "    [theme=dark] .colab-df-convert {\n",
       "      background-color: #3B4455;\n",
       "      fill: #D2E3FC;\n",
       "    }\n",
       "\n",
       "    [theme=dark] .colab-df-convert:hover {\n",
       "      background-color: #434B5C;\n",
       "      box-shadow: 0px 1px 3px 1px rgba(0, 0, 0, 0.15);\n",
       "      filter: drop-shadow(0px 1px 2px rgba(0, 0, 0, 0.3));\n",
       "      fill: #FFFFFF;\n",
       "    }\n",
       "  </style>\n",
       "\n",
       "      <script>\n",
       "        const buttonEl =\n",
       "          document.querySelector('#df-d64b94b3-f04d-4dc8-9042-68e7dd6ea6c8 button.colab-df-convert');\n",
       "        buttonEl.style.display =\n",
       "          google.colab.kernel.accessAllowed ? 'block' : 'none';\n",
       "\n",
       "        async function convertToInteractive(key) {\n",
       "          const element = document.querySelector('#df-d64b94b3-f04d-4dc8-9042-68e7dd6ea6c8');\n",
       "          const dataTable =\n",
       "            await google.colab.kernel.invokeFunction('convertToInteractive',\n",
       "                                                     [key], {});\n",
       "          if (!dataTable) return;\n",
       "\n",
       "          const docLinkHtml = 'Like what you see? Visit the ' +\n",
       "            '<a target=\"_blank\" href=https://colab.research.google.com/notebooks/data_table.ipynb>data table notebook</a>'\n",
       "            + ' to learn more about interactive tables.';\n",
       "          element.innerHTML = '';\n",
       "          dataTable['output_type'] = 'display_data';\n",
       "          await google.colab.output.renderOutput(dataTable, element);\n",
       "          const docLink = document.createElement('div');\n",
       "          docLink.innerHTML = docLinkHtml;\n",
       "          element.appendChild(docLink);\n",
       "        }\n",
       "      </script>\n",
       "    </div>\n",
       "  </div>\n",
       "  "
      ],
      "text/plain": [
       "                Open      High       Low     Close  Adj Close   Volume\n",
       "Date                                                                  \n",
       "1980-01-02  1.297609  1.328022  1.287471  1.287471   0.249645  2044376\n",
       "1980-01-03  1.287471  1.287471  1.267196  1.287471   0.249645  2816257\n",
       "1980-01-04  1.287471  1.287471  1.272265  1.277334   0.247679  3038203\n",
       "1980-01-07  1.277334  1.287471  1.267196  1.267196   0.245714  2251526\n",
       "1980-01-08  1.267196  1.292540  1.257059  1.292540   0.250628  4069022"
      ]
     },
     "execution_count": 13,
     "metadata": {},
     "output_type": "execute_result"
    }
   ],
   "source": [
    "ford.head()"
   ]
  },
  {
   "cell_type": "code",
   "execution_count": 14,
   "metadata": {
    "colab": {
     "base_uri": "https://localhost:8080/",
     "height": 237
    },
    "id": "zqCa8LqDR-Fi",
    "outputId": "464d9dc5-52d3-4f4d-f375-cbc46677025f"
   },
   "outputs": [
    {
     "data": {
      "text/html": [
       "\n",
       "  <div id=\"df-c2901778-0971-42a8-9894-a2461580c453\">\n",
       "    <div class=\"colab-df-container\">\n",
       "      <div>\n",
       "<style scoped>\n",
       "    .dataframe tbody tr th:only-of-type {\n",
       "        vertical-align: middle;\n",
       "    }\n",
       "\n",
       "    .dataframe tbody tr th {\n",
       "        vertical-align: top;\n",
       "    }\n",
       "\n",
       "    .dataframe thead th {\n",
       "        text-align: right;\n",
       "    }\n",
       "</style>\n",
       "<table border=\"1\" class=\"dataframe\">\n",
       "  <thead>\n",
       "    <tr style=\"text-align: right;\">\n",
       "      <th></th>\n",
       "      <th>Open</th>\n",
       "      <th>High</th>\n",
       "      <th>Low</th>\n",
       "      <th>Close</th>\n",
       "      <th>Adj Close</th>\n",
       "      <th>Volume</th>\n",
       "    </tr>\n",
       "    <tr>\n",
       "      <th>Date</th>\n",
       "      <th></th>\n",
       "      <th></th>\n",
       "      <th></th>\n",
       "      <th></th>\n",
       "      <th></th>\n",
       "      <th></th>\n",
       "    </tr>\n",
       "  </thead>\n",
       "  <tbody>\n",
       "    <tr>\n",
       "      <th>2019-12-20</th>\n",
       "      <td>9.50</td>\n",
       "      <td>9.54</td>\n",
       "      <td>9.44</td>\n",
       "      <td>9.48</td>\n",
       "      <td>8.449280</td>\n",
       "      <td>50191200</td>\n",
       "    </tr>\n",
       "    <tr>\n",
       "      <th>2019-12-23</th>\n",
       "      <td>9.50</td>\n",
       "      <td>9.57</td>\n",
       "      <td>9.40</td>\n",
       "      <td>9.44</td>\n",
       "      <td>8.413630</td>\n",
       "      <td>54784400</td>\n",
       "    </tr>\n",
       "    <tr>\n",
       "      <th>2019-12-24</th>\n",
       "      <td>9.44</td>\n",
       "      <td>9.49</td>\n",
       "      <td>9.43</td>\n",
       "      <td>9.47</td>\n",
       "      <td>8.440368</td>\n",
       "      <td>11881600</td>\n",
       "    </tr>\n",
       "    <tr>\n",
       "      <th>2019-12-26</th>\n",
       "      <td>9.47</td>\n",
       "      <td>9.49</td>\n",
       "      <td>9.43</td>\n",
       "      <td>9.45</td>\n",
       "      <td>8.422542</td>\n",
       "      <td>28961300</td>\n",
       "    </tr>\n",
       "    <tr>\n",
       "      <th>2019-12-27</th>\n",
       "      <td>9.45</td>\n",
       "      <td>9.46</td>\n",
       "      <td>9.35</td>\n",
       "      <td>9.36</td>\n",
       "      <td>8.342327</td>\n",
       "      <td>28272800</td>\n",
       "    </tr>\n",
       "  </tbody>\n",
       "</table>\n",
       "</div>\n",
       "      <button class=\"colab-df-convert\" onclick=\"convertToInteractive('df-c2901778-0971-42a8-9894-a2461580c453')\"\n",
       "              title=\"Convert this dataframe to an interactive table.\"\n",
       "              style=\"display:none;\">\n",
       "        \n",
       "  <svg xmlns=\"http://www.w3.org/2000/svg\" height=\"24px\"viewBox=\"0 0 24 24\"\n",
       "       width=\"24px\">\n",
       "    <path d=\"M0 0h24v24H0V0z\" fill=\"none\"/>\n",
       "    <path d=\"M18.56 5.44l.94 2.06.94-2.06 2.06-.94-2.06-.94-.94-2.06-.94 2.06-2.06.94zm-11 1L8.5 8.5l.94-2.06 2.06-.94-2.06-.94L8.5 2.5l-.94 2.06-2.06.94zm10 10l.94 2.06.94-2.06 2.06-.94-2.06-.94-.94-2.06-.94 2.06-2.06.94z\"/><path d=\"M17.41 7.96l-1.37-1.37c-.4-.4-.92-.59-1.43-.59-.52 0-1.04.2-1.43.59L10.3 9.45l-7.72 7.72c-.78.78-.78 2.05 0 2.83L4 21.41c.39.39.9.59 1.41.59.51 0 1.02-.2 1.41-.59l7.78-7.78 2.81-2.81c.8-.78.8-2.07 0-2.86zM5.41 20L4 18.59l7.72-7.72 1.47 1.35L5.41 20z\"/>\n",
       "  </svg>\n",
       "      </button>\n",
       "      \n",
       "  <style>\n",
       "    .colab-df-container {\n",
       "      display:flex;\n",
       "      flex-wrap:wrap;\n",
       "      gap: 12px;\n",
       "    }\n",
       "\n",
       "    .colab-df-convert {\n",
       "      background-color: #E8F0FE;\n",
       "      border: none;\n",
       "      border-radius: 50%;\n",
       "      cursor: pointer;\n",
       "      display: none;\n",
       "      fill: #1967D2;\n",
       "      height: 32px;\n",
       "      padding: 0 0 0 0;\n",
       "      width: 32px;\n",
       "    }\n",
       "\n",
       "    .colab-df-convert:hover {\n",
       "      background-color: #E2EBFA;\n",
       "      box-shadow: 0px 1px 2px rgba(60, 64, 67, 0.3), 0px 1px 3px 1px rgba(60, 64, 67, 0.15);\n",
       "      fill: #174EA6;\n",
       "    }\n",
       "\n",
       "    [theme=dark] .colab-df-convert {\n",
       "      background-color: #3B4455;\n",
       "      fill: #D2E3FC;\n",
       "    }\n",
       "\n",
       "    [theme=dark] .colab-df-convert:hover {\n",
       "      background-color: #434B5C;\n",
       "      box-shadow: 0px 1px 3px 1px rgba(0, 0, 0, 0.15);\n",
       "      filter: drop-shadow(0px 1px 2px rgba(0, 0, 0, 0.3));\n",
       "      fill: #FFFFFF;\n",
       "    }\n",
       "  </style>\n",
       "\n",
       "      <script>\n",
       "        const buttonEl =\n",
       "          document.querySelector('#df-c2901778-0971-42a8-9894-a2461580c453 button.colab-df-convert');\n",
       "        buttonEl.style.display =\n",
       "          google.colab.kernel.accessAllowed ? 'block' : 'none';\n",
       "\n",
       "        async function convertToInteractive(key) {\n",
       "          const element = document.querySelector('#df-c2901778-0971-42a8-9894-a2461580c453');\n",
       "          const dataTable =\n",
       "            await google.colab.kernel.invokeFunction('convertToInteractive',\n",
       "                                                     [key], {});\n",
       "          if (!dataTable) return;\n",
       "\n",
       "          const docLinkHtml = 'Like what you see? Visit the ' +\n",
       "            '<a target=\"_blank\" href=https://colab.research.google.com/notebooks/data_table.ipynb>data table notebook</a>'\n",
       "            + ' to learn more about interactive tables.';\n",
       "          element.innerHTML = '';\n",
       "          dataTable['output_type'] = 'display_data';\n",
       "          await google.colab.output.renderOutput(dataTable, element);\n",
       "          const docLink = document.createElement('div');\n",
       "          docLink.innerHTML = docLinkHtml;\n",
       "          element.appendChild(docLink);\n",
       "        }\n",
       "      </script>\n",
       "    </div>\n",
       "  </div>\n",
       "  "
      ],
      "text/plain": [
       "            Open  High   Low  Close  Adj Close    Volume\n",
       "Date                                                    \n",
       "2019-12-20  9.50  9.54  9.44   9.48   8.449280  50191200\n",
       "2019-12-23  9.50  9.57  9.40   9.44   8.413630  54784400\n",
       "2019-12-24  9.44  9.49  9.43   9.47   8.440368  11881600\n",
       "2019-12-26  9.47  9.49  9.43   9.45   8.422542  28961300\n",
       "2019-12-27  9.45  9.46  9.35   9.36   8.342327  28272800"
      ]
     },
     "execution_count": 14,
     "metadata": {},
     "output_type": "execute_result"
    }
   ],
   "source": [
    "ford.tail()"
   ]
  },
  {
   "cell_type": "markdown",
   "metadata": {
    "id": "Axkhow1PR-Fi"
   },
   "source": [
    "그 밖에 **금, 은과 같은 현물**, **달러와 같은 화폐** 데이터도 가져올 수 있습니다."
   ]
  },
  {
   "cell_type": "markdown",
   "metadata": {
    "id": "kYL0PGiuR-Fj"
   },
   "source": [
    "더욱 자세한 내용은 [GitHub 페이지 링크](https://github.com/FinanceData/FinanceDataReader)를 참고해 보시기 바랍니다."
   ]
  },
  {
   "cell_type": "code",
   "execution_count": 15,
   "metadata": {
    "id": "RJtxeKQm0l2w"
   },
   "outputs": [],
   "source": [
    "## 주가데이터 가져오기"
   ]
  },
  {
   "cell_type": "markdown",
   "metadata": {
    "id": "zQOqUH0rR-Fk"
   },
   "source": [
    "지난 주식 예측 튜토리얼에서는 **삼성전자** 주가데이터로 실습을 해봤으니, \n",
    "\n",
    "이번에는 글로벌 증시의 대장주인 **Apple**사의 주가데이터를 가져와서 예측해 보도록 하겠습니다."
   ]
  },
  {
   "cell_type": "code",
   "execution_count": 16,
   "metadata": {
    "id": "V8NOrcB4R-Fk"
   },
   "outputs": [],
   "source": [
    "# 삼성전자 주식코드: 005930\n",
    "STOCK_CODE = '005930'"
   ]
  },
  {
   "cell_type": "code",
   "execution_count": 17,
   "metadata": {
    "id": "f9s-zs2aR-Fk"
   },
   "outputs": [],
   "source": [
    "stock = fdr.DataReader(STOCK_CODE)"
   ]
  },
  {
   "cell_type": "code",
   "execution_count": 18,
   "metadata": {
    "colab": {
     "base_uri": "https://localhost:8080/",
     "height": 237
    },
    "id": "9CiNeWbzR-Fm",
    "outputId": "1d7a071f-18a5-4fc2-c2c4-540b655717e8"
   },
   "outputs": [
    {
     "data": {
      "text/html": [
       "\n",
       "  <div id=\"df-62b7da72-d4eb-457e-be3a-31effac778f3\">\n",
       "    <div class=\"colab-df-container\">\n",
       "      <div>\n",
       "<style scoped>\n",
       "    .dataframe tbody tr th:only-of-type {\n",
       "        vertical-align: middle;\n",
       "    }\n",
       "\n",
       "    .dataframe tbody tr th {\n",
       "        vertical-align: top;\n",
       "    }\n",
       "\n",
       "    .dataframe thead th {\n",
       "        text-align: right;\n",
       "    }\n",
       "</style>\n",
       "<table border=\"1\" class=\"dataframe\">\n",
       "  <thead>\n",
       "    <tr style=\"text-align: right;\">\n",
       "      <th></th>\n",
       "      <th>Open</th>\n",
       "      <th>High</th>\n",
       "      <th>Low</th>\n",
       "      <th>Close</th>\n",
       "      <th>Volume</th>\n",
       "      <th>Change</th>\n",
       "    </tr>\n",
       "    <tr>\n",
       "      <th>Date</th>\n",
       "      <th></th>\n",
       "      <th></th>\n",
       "      <th></th>\n",
       "      <th></th>\n",
       "      <th></th>\n",
       "      <th></th>\n",
       "    </tr>\n",
       "  </thead>\n",
       "  <tbody>\n",
       "    <tr>\n",
       "      <th>1998-12-14</th>\n",
       "      <td>1484</td>\n",
       "      <td>1494</td>\n",
       "      <td>1321</td>\n",
       "      <td>1437</td>\n",
       "      <td>1618427</td>\n",
       "      <td>NaN</td>\n",
       "    </tr>\n",
       "    <tr>\n",
       "      <th>1998-12-15</th>\n",
       "      <td>1400</td>\n",
       "      <td>1415</td>\n",
       "      <td>1350</td>\n",
       "      <td>1379</td>\n",
       "      <td>950615</td>\n",
       "      <td>-0.040362</td>\n",
       "    </tr>\n",
       "    <tr>\n",
       "      <th>1998-12-16</th>\n",
       "      <td>1360</td>\n",
       "      <td>1436</td>\n",
       "      <td>1340</td>\n",
       "      <td>1341</td>\n",
       "      <td>1033563</td>\n",
       "      <td>-0.027556</td>\n",
       "    </tr>\n",
       "    <tr>\n",
       "      <th>1998-12-17</th>\n",
       "      <td>1302</td>\n",
       "      <td>1407</td>\n",
       "      <td>1302</td>\n",
       "      <td>1387</td>\n",
       "      <td>746312</td>\n",
       "      <td>0.034303</td>\n",
       "    </tr>\n",
       "    <tr>\n",
       "      <th>1998-12-18</th>\n",
       "      <td>1400</td>\n",
       "      <td>1423</td>\n",
       "      <td>1350</td>\n",
       "      <td>1350</td>\n",
       "      <td>634340</td>\n",
       "      <td>-0.026676</td>\n",
       "    </tr>\n",
       "  </tbody>\n",
       "</table>\n",
       "</div>\n",
       "      <button class=\"colab-df-convert\" onclick=\"convertToInteractive('df-62b7da72-d4eb-457e-be3a-31effac778f3')\"\n",
       "              title=\"Convert this dataframe to an interactive table.\"\n",
       "              style=\"display:none;\">\n",
       "        \n",
       "  <svg xmlns=\"http://www.w3.org/2000/svg\" height=\"24px\"viewBox=\"0 0 24 24\"\n",
       "       width=\"24px\">\n",
       "    <path d=\"M0 0h24v24H0V0z\" fill=\"none\"/>\n",
       "    <path d=\"M18.56 5.44l.94 2.06.94-2.06 2.06-.94-2.06-.94-.94-2.06-.94 2.06-2.06.94zm-11 1L8.5 8.5l.94-2.06 2.06-.94-2.06-.94L8.5 2.5l-.94 2.06-2.06.94zm10 10l.94 2.06.94-2.06 2.06-.94-2.06-.94-.94-2.06-.94 2.06-2.06.94z\"/><path d=\"M17.41 7.96l-1.37-1.37c-.4-.4-.92-.59-1.43-.59-.52 0-1.04.2-1.43.59L10.3 9.45l-7.72 7.72c-.78.78-.78 2.05 0 2.83L4 21.41c.39.39.9.59 1.41.59.51 0 1.02-.2 1.41-.59l7.78-7.78 2.81-2.81c.8-.78.8-2.07 0-2.86zM5.41 20L4 18.59l7.72-7.72 1.47 1.35L5.41 20z\"/>\n",
       "  </svg>\n",
       "      </button>\n",
       "      \n",
       "  <style>\n",
       "    .colab-df-container {\n",
       "      display:flex;\n",
       "      flex-wrap:wrap;\n",
       "      gap: 12px;\n",
       "    }\n",
       "\n",
       "    .colab-df-convert {\n",
       "      background-color: #E8F0FE;\n",
       "      border: none;\n",
       "      border-radius: 50%;\n",
       "      cursor: pointer;\n",
       "      display: none;\n",
       "      fill: #1967D2;\n",
       "      height: 32px;\n",
       "      padding: 0 0 0 0;\n",
       "      width: 32px;\n",
       "    }\n",
       "\n",
       "    .colab-df-convert:hover {\n",
       "      background-color: #E2EBFA;\n",
       "      box-shadow: 0px 1px 2px rgba(60, 64, 67, 0.3), 0px 1px 3px 1px rgba(60, 64, 67, 0.15);\n",
       "      fill: #174EA6;\n",
       "    }\n",
       "\n",
       "    [theme=dark] .colab-df-convert {\n",
       "      background-color: #3B4455;\n",
       "      fill: #D2E3FC;\n",
       "    }\n",
       "\n",
       "    [theme=dark] .colab-df-convert:hover {\n",
       "      background-color: #434B5C;\n",
       "      box-shadow: 0px 1px 3px 1px rgba(0, 0, 0, 0.15);\n",
       "      filter: drop-shadow(0px 1px 2px rgba(0, 0, 0, 0.3));\n",
       "      fill: #FFFFFF;\n",
       "    }\n",
       "  </style>\n",
       "\n",
       "      <script>\n",
       "        const buttonEl =\n",
       "          document.querySelector('#df-62b7da72-d4eb-457e-be3a-31effac778f3 button.colab-df-convert');\n",
       "        buttonEl.style.display =\n",
       "          google.colab.kernel.accessAllowed ? 'block' : 'none';\n",
       "\n",
       "        async function convertToInteractive(key) {\n",
       "          const element = document.querySelector('#df-62b7da72-d4eb-457e-be3a-31effac778f3');\n",
       "          const dataTable =\n",
       "            await google.colab.kernel.invokeFunction('convertToInteractive',\n",
       "                                                     [key], {});\n",
       "          if (!dataTable) return;\n",
       "\n",
       "          const docLinkHtml = 'Like what you see? Visit the ' +\n",
       "            '<a target=\"_blank\" href=https://colab.research.google.com/notebooks/data_table.ipynb>data table notebook</a>'\n",
       "            + ' to learn more about interactive tables.';\n",
       "          element.innerHTML = '';\n",
       "          dataTable['output_type'] = 'display_data';\n",
       "          await google.colab.output.renderOutput(dataTable, element);\n",
       "          const docLink = document.createElement('div');\n",
       "          docLink.innerHTML = docLinkHtml;\n",
       "          element.appendChild(docLink);\n",
       "        }\n",
       "      </script>\n",
       "    </div>\n",
       "  </div>\n",
       "  "
      ],
      "text/plain": [
       "            Open  High   Low  Close   Volume    Change\n",
       "Date                                                  \n",
       "1998-12-14  1484  1494  1321   1437  1618427       NaN\n",
       "1998-12-15  1400  1415  1350   1379   950615 -0.040362\n",
       "1998-12-16  1360  1436  1340   1341  1033563 -0.027556\n",
       "1998-12-17  1302  1407  1302   1387   746312  0.034303\n",
       "1998-12-18  1400  1423  1350   1350   634340 -0.026676"
      ]
     },
     "execution_count": 18,
     "metadata": {},
     "output_type": "execute_result"
    }
   ],
   "source": [
    "stock.head()"
   ]
  },
  {
   "cell_type": "code",
   "execution_count": 19,
   "metadata": {
    "colab": {
     "base_uri": "https://localhost:8080/",
     "height": 237
    },
    "id": "4rxgRhYJR-Fn",
    "outputId": "3b41a6af-82e8-46ef-b34c-5ceb7868316c"
   },
   "outputs": [
    {
     "data": {
      "text/html": [
       "\n",
       "  <div id=\"df-825d6c2b-8533-45f0-8c9c-5bd4d70a7df0\">\n",
       "    <div class=\"colab-df-container\">\n",
       "      <div>\n",
       "<style scoped>\n",
       "    .dataframe tbody tr th:only-of-type {\n",
       "        vertical-align: middle;\n",
       "    }\n",
       "\n",
       "    .dataframe tbody tr th {\n",
       "        vertical-align: top;\n",
       "    }\n",
       "\n",
       "    .dataframe thead th {\n",
       "        text-align: right;\n",
       "    }\n",
       "</style>\n",
       "<table border=\"1\" class=\"dataframe\">\n",
       "  <thead>\n",
       "    <tr style=\"text-align: right;\">\n",
       "      <th></th>\n",
       "      <th>Open</th>\n",
       "      <th>High</th>\n",
       "      <th>Low</th>\n",
       "      <th>Close</th>\n",
       "      <th>Volume</th>\n",
       "      <th>Change</th>\n",
       "    </tr>\n",
       "    <tr>\n",
       "      <th>Date</th>\n",
       "      <th></th>\n",
       "      <th></th>\n",
       "      <th></th>\n",
       "      <th></th>\n",
       "      <th></th>\n",
       "      <th></th>\n",
       "    </tr>\n",
       "  </thead>\n",
       "  <tbody>\n",
       "    <tr>\n",
       "      <th>2023-03-28</th>\n",
       "      <td>62400</td>\n",
       "      <td>62900</td>\n",
       "      <td>62100</td>\n",
       "      <td>62900</td>\n",
       "      <td>11614118</td>\n",
       "      <td>0.012882</td>\n",
       "    </tr>\n",
       "    <tr>\n",
       "      <th>2023-03-29</th>\n",
       "      <td>62500</td>\n",
       "      <td>62700</td>\n",
       "      <td>62200</td>\n",
       "      <td>62700</td>\n",
       "      <td>11216008</td>\n",
       "      <td>-0.003180</td>\n",
       "    </tr>\n",
       "    <tr>\n",
       "      <th>2023-03-30</th>\n",
       "      <td>63700</td>\n",
       "      <td>63700</td>\n",
       "      <td>63100</td>\n",
       "      <td>63200</td>\n",
       "      <td>15684377</td>\n",
       "      <td>0.007974</td>\n",
       "    </tr>\n",
       "    <tr>\n",
       "      <th>2023-03-31</th>\n",
       "      <td>64000</td>\n",
       "      <td>64000</td>\n",
       "      <td>63700</td>\n",
       "      <td>64000</td>\n",
       "      <td>14094479</td>\n",
       "      <td>0.012658</td>\n",
       "    </tr>\n",
       "    <tr>\n",
       "      <th>2023-04-03</th>\n",
       "      <td>64000</td>\n",
       "      <td>64000</td>\n",
       "      <td>63000</td>\n",
       "      <td>63200</td>\n",
       "      <td>9049488</td>\n",
       "      <td>-0.012500</td>\n",
       "    </tr>\n",
       "  </tbody>\n",
       "</table>\n",
       "</div>\n",
       "      <button class=\"colab-df-convert\" onclick=\"convertToInteractive('df-825d6c2b-8533-45f0-8c9c-5bd4d70a7df0')\"\n",
       "              title=\"Convert this dataframe to an interactive table.\"\n",
       "              style=\"display:none;\">\n",
       "        \n",
       "  <svg xmlns=\"http://www.w3.org/2000/svg\" height=\"24px\"viewBox=\"0 0 24 24\"\n",
       "       width=\"24px\">\n",
       "    <path d=\"M0 0h24v24H0V0z\" fill=\"none\"/>\n",
       "    <path d=\"M18.56 5.44l.94 2.06.94-2.06 2.06-.94-2.06-.94-.94-2.06-.94 2.06-2.06.94zm-11 1L8.5 8.5l.94-2.06 2.06-.94-2.06-.94L8.5 2.5l-.94 2.06-2.06.94zm10 10l.94 2.06.94-2.06 2.06-.94-2.06-.94-.94-2.06-.94 2.06-2.06.94z\"/><path d=\"M17.41 7.96l-1.37-1.37c-.4-.4-.92-.59-1.43-.59-.52 0-1.04.2-1.43.59L10.3 9.45l-7.72 7.72c-.78.78-.78 2.05 0 2.83L4 21.41c.39.39.9.59 1.41.59.51 0 1.02-.2 1.41-.59l7.78-7.78 2.81-2.81c.8-.78.8-2.07 0-2.86zM5.41 20L4 18.59l7.72-7.72 1.47 1.35L5.41 20z\"/>\n",
       "  </svg>\n",
       "      </button>\n",
       "      \n",
       "  <style>\n",
       "    .colab-df-container {\n",
       "      display:flex;\n",
       "      flex-wrap:wrap;\n",
       "      gap: 12px;\n",
       "    }\n",
       "\n",
       "    .colab-df-convert {\n",
       "      background-color: #E8F0FE;\n",
       "      border: none;\n",
       "      border-radius: 50%;\n",
       "      cursor: pointer;\n",
       "      display: none;\n",
       "      fill: #1967D2;\n",
       "      height: 32px;\n",
       "      padding: 0 0 0 0;\n",
       "      width: 32px;\n",
       "    }\n",
       "\n",
       "    .colab-df-convert:hover {\n",
       "      background-color: #E2EBFA;\n",
       "      box-shadow: 0px 1px 2px rgba(60, 64, 67, 0.3), 0px 1px 3px 1px rgba(60, 64, 67, 0.15);\n",
       "      fill: #174EA6;\n",
       "    }\n",
       "\n",
       "    [theme=dark] .colab-df-convert {\n",
       "      background-color: #3B4455;\n",
       "      fill: #D2E3FC;\n",
       "    }\n",
       "\n",
       "    [theme=dark] .colab-df-convert:hover {\n",
       "      background-color: #434B5C;\n",
       "      box-shadow: 0px 1px 3px 1px rgba(0, 0, 0, 0.15);\n",
       "      filter: drop-shadow(0px 1px 2px rgba(0, 0, 0, 0.3));\n",
       "      fill: #FFFFFF;\n",
       "    }\n",
       "  </style>\n",
       "\n",
       "      <script>\n",
       "        const buttonEl =\n",
       "          document.querySelector('#df-825d6c2b-8533-45f0-8c9c-5bd4d70a7df0 button.colab-df-convert');\n",
       "        buttonEl.style.display =\n",
       "          google.colab.kernel.accessAllowed ? 'block' : 'none';\n",
       "\n",
       "        async function convertToInteractive(key) {\n",
       "          const element = document.querySelector('#df-825d6c2b-8533-45f0-8c9c-5bd4d70a7df0');\n",
       "          const dataTable =\n",
       "            await google.colab.kernel.invokeFunction('convertToInteractive',\n",
       "                                                     [key], {});\n",
       "          if (!dataTable) return;\n",
       "\n",
       "          const docLinkHtml = 'Like what you see? Visit the ' +\n",
       "            '<a target=\"_blank\" href=https://colab.research.google.com/notebooks/data_table.ipynb>data table notebook</a>'\n",
       "            + ' to learn more about interactive tables.';\n",
       "          element.innerHTML = '';\n",
       "          dataTable['output_type'] = 'display_data';\n",
       "          await google.colab.output.renderOutput(dataTable, element);\n",
       "          const docLink = document.createElement('div');\n",
       "          docLink.innerHTML = docLinkHtml;\n",
       "          element.appendChild(docLink);\n",
       "        }\n",
       "      </script>\n",
       "    </div>\n",
       "  </div>\n",
       "  "
      ],
      "text/plain": [
       "             Open   High    Low  Close    Volume    Change\n",
       "Date                                                      \n",
       "2023-03-28  62400  62900  62100  62900  11614118  0.012882\n",
       "2023-03-29  62500  62700  62200  62700  11216008 -0.003180\n",
       "2023-03-30  63700  63700  63100  63200  15684377  0.007974\n",
       "2023-03-31  64000  64000  63700  64000  14094479  0.012658\n",
       "2023-04-03  64000  64000  63000  63200   9049488 -0.012500"
      ]
     },
     "execution_count": 19,
     "metadata": {},
     "output_type": "execute_result"
    }
   ],
   "source": [
    "stock.tail()"
   ]
  },
  {
   "cell_type": "code",
   "execution_count": 20,
   "metadata": {
    "colab": {
     "base_uri": "https://localhost:8080/"
    },
    "id": "F3q6F4tXR-Fo",
    "outputId": "10efc716-f480-47af-e09a-7f72163038f4"
   },
   "outputs": [
    {
     "data": {
      "text/plain": [
       "DatetimeIndex(['1998-12-14', '1998-12-15', '1998-12-16', '1998-12-17',\n",
       "               '1998-12-18', '1998-12-21', '1998-12-22', '1998-12-23',\n",
       "               '1998-12-24', '1998-12-28',\n",
       "               ...\n",
       "               '2023-03-21', '2023-03-22', '2023-03-23', '2023-03-24',\n",
       "               '2023-03-27', '2023-03-28', '2023-03-29', '2023-03-30',\n",
       "               '2023-03-31', '2023-04-03'],\n",
       "              dtype='datetime64[ns]', name='Date', length=6000, freq=None)"
      ]
     },
     "execution_count": 20,
     "metadata": {},
     "output_type": "execute_result"
    }
   ],
   "source": [
    "stock.index"
   ]
  },
  {
   "cell_type": "markdown",
   "metadata": {
    "id": "TruglAP6R-Fo"
   },
   "source": [
    "위에서 보시는 바와 같이 index가 `DatetimeIndex`로 지정되어 있습니다.\n",
    "\n",
    "`DatetimeIndex`로 정의되어 있다면, 아래와 같이 연도, 월, 일을 쪼갤 수 있으며, **월별, 연도별 피벗데이터**를 만들때 유용하게 활용할 수 있습니다."
   ]
  },
  {
   "cell_type": "code",
   "execution_count": 21,
   "metadata": {
    "id": "fif43Fh-0l4L"
   },
   "outputs": [],
   "source": [
    "stock['Year'] = stock.index.year\n",
    "stock['Month'] = stock.index.month\n",
    "stock['Day'] = stock.index.day"
   ]
  },
  {
   "cell_type": "code",
   "execution_count": 22,
   "metadata": {
    "colab": {
     "base_uri": "https://localhost:8080/",
     "height": 237
    },
    "id": "0yAKE9Ag0l4S",
    "outputId": "d36c8ac2-ee8d-437d-e980-e558293b5579"
   },
   "outputs": [
    {
     "data": {
      "text/html": [
       "\n",
       "  <div id=\"df-16a877ac-c191-4010-8106-bdbcc2e1e55a\">\n",
       "    <div class=\"colab-df-container\">\n",
       "      <div>\n",
       "<style scoped>\n",
       "    .dataframe tbody tr th:only-of-type {\n",
       "        vertical-align: middle;\n",
       "    }\n",
       "\n",
       "    .dataframe tbody tr th {\n",
       "        vertical-align: top;\n",
       "    }\n",
       "\n",
       "    .dataframe thead th {\n",
       "        text-align: right;\n",
       "    }\n",
       "</style>\n",
       "<table border=\"1\" class=\"dataframe\">\n",
       "  <thead>\n",
       "    <tr style=\"text-align: right;\">\n",
       "      <th></th>\n",
       "      <th>Open</th>\n",
       "      <th>High</th>\n",
       "      <th>Low</th>\n",
       "      <th>Close</th>\n",
       "      <th>Volume</th>\n",
       "      <th>Change</th>\n",
       "      <th>Year</th>\n",
       "      <th>Month</th>\n",
       "      <th>Day</th>\n",
       "    </tr>\n",
       "    <tr>\n",
       "      <th>Date</th>\n",
       "      <th></th>\n",
       "      <th></th>\n",
       "      <th></th>\n",
       "      <th></th>\n",
       "      <th></th>\n",
       "      <th></th>\n",
       "      <th></th>\n",
       "      <th></th>\n",
       "      <th></th>\n",
       "    </tr>\n",
       "  </thead>\n",
       "  <tbody>\n",
       "    <tr>\n",
       "      <th>1998-12-14</th>\n",
       "      <td>1484</td>\n",
       "      <td>1494</td>\n",
       "      <td>1321</td>\n",
       "      <td>1437</td>\n",
       "      <td>1618427</td>\n",
       "      <td>NaN</td>\n",
       "      <td>1998</td>\n",
       "      <td>12</td>\n",
       "      <td>14</td>\n",
       "    </tr>\n",
       "    <tr>\n",
       "      <th>1998-12-15</th>\n",
       "      <td>1400</td>\n",
       "      <td>1415</td>\n",
       "      <td>1350</td>\n",
       "      <td>1379</td>\n",
       "      <td>950615</td>\n",
       "      <td>-0.040362</td>\n",
       "      <td>1998</td>\n",
       "      <td>12</td>\n",
       "      <td>15</td>\n",
       "    </tr>\n",
       "    <tr>\n",
       "      <th>1998-12-16</th>\n",
       "      <td>1360</td>\n",
       "      <td>1436</td>\n",
       "      <td>1340</td>\n",
       "      <td>1341</td>\n",
       "      <td>1033563</td>\n",
       "      <td>-0.027556</td>\n",
       "      <td>1998</td>\n",
       "      <td>12</td>\n",
       "      <td>16</td>\n",
       "    </tr>\n",
       "    <tr>\n",
       "      <th>1998-12-17</th>\n",
       "      <td>1302</td>\n",
       "      <td>1407</td>\n",
       "      <td>1302</td>\n",
       "      <td>1387</td>\n",
       "      <td>746312</td>\n",
       "      <td>0.034303</td>\n",
       "      <td>1998</td>\n",
       "      <td>12</td>\n",
       "      <td>17</td>\n",
       "    </tr>\n",
       "    <tr>\n",
       "      <th>1998-12-18</th>\n",
       "      <td>1400</td>\n",
       "      <td>1423</td>\n",
       "      <td>1350</td>\n",
       "      <td>1350</td>\n",
       "      <td>634340</td>\n",
       "      <td>-0.026676</td>\n",
       "      <td>1998</td>\n",
       "      <td>12</td>\n",
       "      <td>18</td>\n",
       "    </tr>\n",
       "  </tbody>\n",
       "</table>\n",
       "</div>\n",
       "      <button class=\"colab-df-convert\" onclick=\"convertToInteractive('df-16a877ac-c191-4010-8106-bdbcc2e1e55a')\"\n",
       "              title=\"Convert this dataframe to an interactive table.\"\n",
       "              style=\"display:none;\">\n",
       "        \n",
       "  <svg xmlns=\"http://www.w3.org/2000/svg\" height=\"24px\"viewBox=\"0 0 24 24\"\n",
       "       width=\"24px\">\n",
       "    <path d=\"M0 0h24v24H0V0z\" fill=\"none\"/>\n",
       "    <path d=\"M18.56 5.44l.94 2.06.94-2.06 2.06-.94-2.06-.94-.94-2.06-.94 2.06-2.06.94zm-11 1L8.5 8.5l.94-2.06 2.06-.94-2.06-.94L8.5 2.5l-.94 2.06-2.06.94zm10 10l.94 2.06.94-2.06 2.06-.94-2.06-.94-.94-2.06-.94 2.06-2.06.94z\"/><path d=\"M17.41 7.96l-1.37-1.37c-.4-.4-.92-.59-1.43-.59-.52 0-1.04.2-1.43.59L10.3 9.45l-7.72 7.72c-.78.78-.78 2.05 0 2.83L4 21.41c.39.39.9.59 1.41.59.51 0 1.02-.2 1.41-.59l7.78-7.78 2.81-2.81c.8-.78.8-2.07 0-2.86zM5.41 20L4 18.59l7.72-7.72 1.47 1.35L5.41 20z\"/>\n",
       "  </svg>\n",
       "      </button>\n",
       "      \n",
       "  <style>\n",
       "    .colab-df-container {\n",
       "      display:flex;\n",
       "      flex-wrap:wrap;\n",
       "      gap: 12px;\n",
       "    }\n",
       "\n",
       "    .colab-df-convert {\n",
       "      background-color: #E8F0FE;\n",
       "      border: none;\n",
       "      border-radius: 50%;\n",
       "      cursor: pointer;\n",
       "      display: none;\n",
       "      fill: #1967D2;\n",
       "      height: 32px;\n",
       "      padding: 0 0 0 0;\n",
       "      width: 32px;\n",
       "    }\n",
       "\n",
       "    .colab-df-convert:hover {\n",
       "      background-color: #E2EBFA;\n",
       "      box-shadow: 0px 1px 2px rgba(60, 64, 67, 0.3), 0px 1px 3px 1px rgba(60, 64, 67, 0.15);\n",
       "      fill: #174EA6;\n",
       "    }\n",
       "\n",
       "    [theme=dark] .colab-df-convert {\n",
       "      background-color: #3B4455;\n",
       "      fill: #D2E3FC;\n",
       "    }\n",
       "\n",
       "    [theme=dark] .colab-df-convert:hover {\n",
       "      background-color: #434B5C;\n",
       "      box-shadow: 0px 1px 3px 1px rgba(0, 0, 0, 0.15);\n",
       "      filter: drop-shadow(0px 1px 2px rgba(0, 0, 0, 0.3));\n",
       "      fill: #FFFFFF;\n",
       "    }\n",
       "  </style>\n",
       "\n",
       "      <script>\n",
       "        const buttonEl =\n",
       "          document.querySelector('#df-16a877ac-c191-4010-8106-bdbcc2e1e55a button.colab-df-convert');\n",
       "        buttonEl.style.display =\n",
       "          google.colab.kernel.accessAllowed ? 'block' : 'none';\n",
       "\n",
       "        async function convertToInteractive(key) {\n",
       "          const element = document.querySelector('#df-16a877ac-c191-4010-8106-bdbcc2e1e55a');\n",
       "          const dataTable =\n",
       "            await google.colab.kernel.invokeFunction('convertToInteractive',\n",
       "                                                     [key], {});\n",
       "          if (!dataTable) return;\n",
       "\n",
       "          const docLinkHtml = 'Like what you see? Visit the ' +\n",
       "            '<a target=\"_blank\" href=https://colab.research.google.com/notebooks/data_table.ipynb>data table notebook</a>'\n",
       "            + ' to learn more about interactive tables.';\n",
       "          element.innerHTML = '';\n",
       "          dataTable['output_type'] = 'display_data';\n",
       "          await google.colab.output.renderOutput(dataTable, element);\n",
       "          const docLink = document.createElement('div');\n",
       "          docLink.innerHTML = docLinkHtml;\n",
       "          element.appendChild(docLink);\n",
       "        }\n",
       "      </script>\n",
       "    </div>\n",
       "  </div>\n",
       "  "
      ],
      "text/plain": [
       "            Open  High   Low  Close   Volume    Change  Year  Month  Day\n",
       "Date                                                                    \n",
       "1998-12-14  1484  1494  1321   1437  1618427       NaN  1998     12   14\n",
       "1998-12-15  1400  1415  1350   1379   950615 -0.040362  1998     12   15\n",
       "1998-12-16  1360  1436  1340   1341  1033563 -0.027556  1998     12   16\n",
       "1998-12-17  1302  1407  1302   1387   746312  0.034303  1998     12   17\n",
       "1998-12-18  1400  1423  1350   1350   634340 -0.026676  1998     12   18"
      ]
     },
     "execution_count": 22,
     "metadata": {},
     "output_type": "execute_result"
    }
   ],
   "source": [
    "stock.head()"
   ]
  },
  {
   "cell_type": "markdown",
   "metadata": {
    "id": "5FBTlube0l4d"
   },
   "source": [
    "## 시각화"
   ]
  },
  {
   "cell_type": "code",
   "execution_count": 23,
   "metadata": {
    "colab": {
     "base_uri": "https://localhost:8080/",
     "height": 1000
    },
    "id": "MWcaWEa80l4o",
    "outputId": "f53aab37-4e02-4931-edad-1f91f2326264"
   },
   "outputs": [
    {
     "data": {
      "text/plain": [
       "Text(0, 0.5, 'price')"
      ]
     },
     "execution_count": 23,
     "metadata": {},
     "output_type": "execute_result"
    },
    {
     "name": "stderr",
     "output_type": "stream",
     "text": [
      "WARNING:matplotlib.font_manager:findfont: Font family 'NanumGothic' not found.\n",
      "WARNING:matplotlib.font_manager:findfont: Font family 'NanumGothic' not found.\n",
      "WARNING:matplotlib.font_manager:findfont: Font family 'NanumGothic' not found.\n",
      "WARNING:matplotlib.font_manager:findfont: Font family 'NanumGothic' not found.\n",
      "WARNING:matplotlib.font_manager:findfont: Font family 'NanumGothic' not found.\n",
      "WARNING:matplotlib.font_manager:findfont: Font family 'NanumGothic' not found.\n",
      "WARNING:matplotlib.font_manager:findfont: Font family 'NanumGothic' not found.\n",
      "WARNING:matplotlib.font_manager:findfont: Font family 'NanumGothic' not found.\n",
      "WARNING:matplotlib.font_manager:findfont: Font family 'NanumGothic' not found.\n",
      "WARNING:matplotlib.font_manager:findfont: Font family 'NanumGothic' not found.\n",
      "WARNING:matplotlib.font_manager:findfont: Font family 'NanumGothic' not found.\n",
      "WARNING:matplotlib.font_manager:findfont: Font family 'NanumGothic' not found.\n",
      "WARNING:matplotlib.font_manager:findfont: Font family 'NanumGothic' not found.\n",
      "WARNING:matplotlib.font_manager:findfont: Font family 'NanumGothic' not found.\n",
      "WARNING:matplotlib.font_manager:findfont: Font family 'NanumGothic' not found.\n",
      "WARNING:matplotlib.font_manager:findfont: Font family 'NanumGothic' not found.\n",
      "WARNING:matplotlib.font_manager:findfont: Font family 'NanumGothic' not found.\n",
      "WARNING:matplotlib.font_manager:findfont: Font family 'NanumGothic' not found.\n",
      "WARNING:matplotlib.font_manager:findfont: Font family 'NanumGothic' not found.\n",
      "WARNING:matplotlib.font_manager:findfont: Font family 'NanumGothic' not found.\n",
      "WARNING:matplotlib.font_manager:findfont: Font family 'NanumGothic' not found.\n",
      "WARNING:matplotlib.font_manager:findfont: Font family 'NanumGothic' not found.\n",
      "WARNING:matplotlib.font_manager:findfont: Font family 'NanumGothic' not found.\n",
      "WARNING:matplotlib.font_manager:findfont: Font family 'NanumGothic' not found.\n",
      "WARNING:matplotlib.font_manager:findfont: Font family 'NanumGothic' not found.\n",
      "WARNING:matplotlib.font_manager:findfont: Font family 'NanumGothic' not found.\n",
      "WARNING:matplotlib.font_manager:findfont: Font family 'NanumGothic' not found.\n",
      "WARNING:matplotlib.font_manager:findfont: Font family 'NanumGothic' not found.\n",
      "WARNING:matplotlib.font_manager:findfont: Font family 'NanumGothic' not found.\n",
      "WARNING:matplotlib.font_manager:findfont: Font family 'NanumGothic' not found.\n",
      "WARNING:matplotlib.font_manager:findfont: Font family 'NanumGothic' not found.\n",
      "WARNING:matplotlib.font_manager:findfont: Font family 'NanumGothic' not found.\n",
      "WARNING:matplotlib.font_manager:findfont: Font family 'NanumGothic' not found.\n",
      "WARNING:matplotlib.font_manager:findfont: Font family 'NanumGothic' not found.\n",
      "WARNING:matplotlib.font_manager:findfont: Font family 'NanumGothic' not found.\n",
      "WARNING:matplotlib.font_manager:findfont: Font family 'NanumGothic' not found.\n",
      "WARNING:matplotlib.font_manager:findfont: Font family 'NanumGothic' not found.\n",
      "WARNING:matplotlib.font_manager:findfont: Font family 'NanumGothic' not found.\n",
      "WARNING:matplotlib.font_manager:findfont: Font family 'NanumGothic' not found.\n",
      "WARNING:matplotlib.font_manager:findfont: Font family 'NanumGothic' not found.\n",
      "WARNING:matplotlib.font_manager:findfont: Font family 'NanumGothic' not found.\n",
      "WARNING:matplotlib.font_manager:findfont: Font family 'NanumGothic' not found.\n",
      "WARNING:matplotlib.font_manager:findfont: Font family 'NanumGothic' not found.\n",
      "WARNING:matplotlib.font_manager:findfont: Font family 'NanumGothic' not found.\n",
      "WARNING:matplotlib.font_manager:findfont: Font family 'NanumGothic' not found.\n",
      "WARNING:matplotlib.font_manager:findfont: Font family 'NanumGothic' not found.\n",
      "WARNING:matplotlib.font_manager:findfont: Font family 'NanumGothic' not found.\n",
      "WARNING:matplotlib.font_manager:findfont: Font family 'NanumGothic' not found.\n",
      "WARNING:matplotlib.font_manager:findfont: Font family 'NanumGothic' not found.\n",
      "WARNING:matplotlib.font_manager:findfont: Font family 'NanumGothic' not found.\n",
      "WARNING:matplotlib.font_manager:findfont: Font family 'NanumGothic' not found.\n",
      "WARNING:matplotlib.font_manager:findfont: Font family 'NanumGothic' not found.\n",
      "WARNING:matplotlib.font_manager:findfont: Font family 'NanumGothic' not found.\n",
      "WARNING:matplotlib.font_manager:findfont: Font family 'NanumGothic' not found.\n",
      "WARNING:matplotlib.font_manager:findfont: Font family 'NanumGothic' not found.\n",
      "WARNING:matplotlib.font_manager:findfont: Font family 'NanumGothic' not found.\n",
      "WARNING:matplotlib.font_manager:findfont: Font family 'NanumGothic' not found.\n",
      "WARNING:matplotlib.font_manager:findfont: Font family 'NanumGothic' not found.\n"
     ]
    },
    {
     "data": {
      "image/png": "[encoded data removed]",
      "text/plain": [
       "<Figure size 1600x900 with 1 Axes>"
      ]
     },
     "metadata": {},
     "output_type": "display_data"
    }
   ],
   "source": [
    "plt.figure(figsize=(16, 9))\n",
    "sns.lineplot(y=stock['Close'], x=stock.index)\n",
    "plt.xlabel('time')\n",
    "plt.ylabel('price')"
   ]
  },
  {
   "cell_type": "code",
   "execution_count": 24,
   "metadata": {
    "colab": {
     "base_uri": "https://localhost:8080/",
     "height": 1000
    },
    "id": "iIEnFg-LR-Fs",
    "outputId": "ff781e7a-ce9d-43e7-fec5-502b266b0ac8"
   },
   "outputs": [
    {
     "name": "stderr",
     "output_type": "stream",
     "text": [
      "WARNING:matplotlib.font_manager:findfont: Font family 'NanumGothic' not found.\n",
      "WARNING:matplotlib.font_manager:findfont: Font family 'NanumGothic' not found.\n",
      "WARNING:matplotlib.font_manager:findfont: Font family 'NanumGothic' not found.\n",
      "WARNING:matplotlib.font_manager:findfont: Font family 'NanumGothic' not found.\n",
      "WARNING:matplotlib.font_manager:findfont: Font family 'NanumGothic' not found.\n",
      "WARNING:matplotlib.font_manager:findfont: Font family 'NanumGothic' not found.\n",
      "WARNING:matplotlib.font_manager:findfont: Font family 'NanumGothic' not found.\n",
      "WARNING:matplotlib.font_manager:findfont: Font family 'NanumGothic' not found.\n",
      "WARNING:matplotlib.font_manager:findfont: Font family 'NanumGothic' not found.\n",
      "WARNING:matplotlib.font_manager:findfont: Font family 'NanumGothic' not found.\n",
      "WARNING:matplotlib.font_manager:findfont: Font family 'NanumGothic' not found.\n",
      "WARNING:matplotlib.font_manager:findfont: Font family 'NanumGothic' not found.\n",
      "WARNING:matplotlib.font_manager:findfont: Font family 'NanumGothic' not found.\n",
      "WARNING:matplotlib.font_manager:findfont: Font family 'NanumGothic' not found.\n",
      "WARNING:matplotlib.font_manager:findfont: Font family 'NanumGothic' not found.\n",
      "WARNING:matplotlib.font_manager:findfont: Font family 'NanumGothic' not found.\n",
      "WARNING:matplotlib.font_manager:findfont: Font family 'NanumGothic' not found.\n",
      "WARNING:matplotlib.font_manager:findfont: Font family 'NanumGothic' not found.\n",
      "WARNING:matplotlib.font_manager:findfont: Font family 'NanumGothic' not found.\n",
      "WARNING:matplotlib.font_manager:findfont: Font family 'NanumGothic' not found.\n",
      "WARNING:matplotlib.font_manager:findfont: Font family 'NanumGothic' not found.\n",
      "WARNING:matplotlib.font_manager:findfont: Font family 'NanumGothic' not found.\n",
      "WARNING:matplotlib.font_manager:findfont: Font family 'NanumGothic' not found.\n",
      "WARNING:matplotlib.font_manager:findfont: Font family 'NanumGothic' not found.\n",
      "WARNING:matplotlib.font_manager:findfont: Font family 'NanumGothic' not found.\n",
      "WARNING:matplotlib.font_manager:findfont: Font family 'NanumGothic' not found.\n",
      "WARNING:matplotlib.font_manager:findfont: Font family 'NanumGothic' not found.\n",
      "WARNING:matplotlib.font_manager:findfont: Font family 'NanumGothic' not found.\n",
      "WARNING:matplotlib.font_manager:findfont: Font family 'NanumGothic' not found.\n",
      "WARNING:matplotlib.font_manager:findfont: Font family 'NanumGothic' not found.\n",
      "WARNING:matplotlib.font_manager:findfont: Font family 'NanumGothic' not found.\n",
      "WARNING:matplotlib.font_manager:findfont: Font family 'NanumGothic' not found.\n",
      "WARNING:matplotlib.font_manager:findfont: Font family 'NanumGothic' not found.\n",
      "WARNING:matplotlib.font_manager:findfont: Font family 'NanumGothic' not found.\n",
      "WARNING:matplotlib.font_manager:findfont: Font family 'NanumGothic' not found.\n",
      "WARNING:matplotlib.font_manager:findfont: Font family 'NanumGothic' not found.\n",
      "WARNING:matplotlib.font_manager:findfont: Font family 'NanumGothic' not found.\n",
      "WARNING:matplotlib.font_manager:findfont: Font family 'NanumGothic' not found.\n",
      "WARNING:matplotlib.font_manager:findfont: Font family 'NanumGothic' not found.\n",
      "WARNING:matplotlib.font_manager:findfont: Font family 'NanumGothic' not found.\n",
      "WARNING:matplotlib.font_manager:findfont: Font family 'NanumGothic' not found.\n",
      "WARNING:matplotlib.font_manager:findfont: Font family 'NanumGothic' not found.\n",
      "WARNING:matplotlib.font_manager:findfont: Font family 'NanumGothic' not found.\n",
      "WARNING:matplotlib.font_manager:findfont: Font family 'NanumGothic' not found.\n",
      "WARNING:matplotlib.font_manager:findfont: Font family 'NanumGothic' not found.\n",
      "WARNING:matplotlib.font_manager:findfont: Font family 'NanumGothic' not found.\n",
      "WARNING:matplotlib.font_manager:findfont: Font family 'NanumGothic' not found.\n",
      "WARNING:matplotlib.font_manager:findfont: Font family 'NanumGothic' not found.\n",
      "WARNING:matplotlib.font_manager:findfont: Font family 'NanumGothic' not found.\n",
      "WARNING:matplotlib.font_manager:findfont: Font family 'NanumGothic' not found.\n",
      "WARNING:matplotlib.font_manager:findfont: Font family 'NanumGothic' not found.\n",
      "WARNING:matplotlib.font_manager:findfont: Font family 'NanumGothic' not found.\n",
      "WARNING:matplotlib.font_manager:findfont: Font family 'NanumGothic' not found.\n",
      "WARNING:matplotlib.font_manager:findfont: Font family 'NanumGothic' not found.\n",
      "WARNING:matplotlib.font_manager:findfont: Font family 'NanumGothic' not found.\n",
      "WARNING:matplotlib.font_manager:findfont: Font family 'NanumGothic' not found.\n",
      "WARNING:matplotlib.font_manager:findfont: Font family 'NanumGothic' not found.\n",
      "WARNING:matplotlib.font_manager:findfont: Font family 'NanumGothic' not found.\n",
      "WARNING:matplotlib.font_manager:findfont: Font family 'NanumGothic' not found.\n",
      "WARNING:matplotlib.font_manager:findfont: Font family 'NanumGothic' not found.\n",
      "WARNING:matplotlib.font_manager:findfont: Font family 'NanumGothic' not found.\n",
      "WARNING:matplotlib.font_manager:findfont: Font family 'NanumGothic' not found.\n",
      "WARNING:matplotlib.font_manager:findfont: Font family 'NanumGothic' not found.\n",
      "WARNING:matplotlib.font_manager:findfont: Font family 'NanumGothic' not found.\n",
      "WARNING:matplotlib.font_manager:findfont: Font family 'NanumGothic' not found.\n",
      "WARNING:matplotlib.font_manager:findfont: Font family 'NanumGothic' not found.\n",
      "WARNING:matplotlib.font_manager:findfont: Font family 'NanumGothic' not found.\n",
      "WARNING:matplotlib.font_manager:findfont: Font family 'NanumGothic' not found.\n",
      "WARNING:matplotlib.font_manager:findfont: Font family 'NanumGothic' not found.\n",
      "WARNING:matplotlib.font_manager:findfont: Font family 'NanumGothic' not found.\n",
      "WARNING:matplotlib.font_manager:findfont: Font family 'NanumGothic' not found.\n",
      "WARNING:matplotlib.font_manager:findfont: Font family 'NanumGothic' not found.\n",
      "WARNING:matplotlib.font_manager:findfont: Font family 'NanumGothic' not found.\n",
      "WARNING:matplotlib.font_manager:findfont: Font family 'NanumGothic' not found.\n",
      "WARNING:matplotlib.font_manager:findfont: Font family 'NanumGothic' not found.\n",
      "WARNING:matplotlib.font_manager:findfont: Font family 'NanumGothic' not found.\n",
      "WARNING:matplotlib.font_manager:findfont: Font family 'NanumGothic' not found.\n",
      "WARNING:matplotlib.font_manager:findfont: Font family 'NanumGothic' not found.\n",
      "WARNING:matplotlib.font_manager:findfont: Font family 'NanumGothic' not found.\n",
      "WARNING:matplotlib.font_manager:findfont: Font family 'NanumGothic' not found.\n",
      "WARNING:matplotlib.font_manager:findfont: Font family 'NanumGothic' not found.\n",
      "WARNING:matplotlib.font_manager:findfont: Font family 'NanumGothic' not found.\n",
      "WARNING:matplotlib.font_manager:findfont: Font family 'NanumGothic' not found.\n",
      "WARNING:matplotlib.font_manager:findfont: Font family 'NanumGothic' not found.\n",
      "WARNING:matplotlib.font_manager:findfont: Font family 'NanumGothic' not found.\n",
      "WARNING:matplotlib.font_manager:findfont: Font family 'NanumGothic' not found.\n",
      "WARNING:matplotlib.font_manager:findfont: Font family 'NanumGothic' not found.\n",
      "WARNING:matplotlib.font_manager:findfont: Font family 'NanumGothic' not found.\n",
      "WARNING:matplotlib.font_manager:findfont: Font family 'NanumGothic' not found.\n",
      "WARNING:matplotlib.font_manager:findfont: Font family 'NanumGothic' not found.\n",
      "WARNING:matplotlib.font_manager:findfont: Font family 'NanumGothic' not found.\n",
      "WARNING:matplotlib.font_manager:findfont: Font family 'NanumGothic' not found.\n",
      "WARNING:matplotlib.font_manager:findfont: Font family 'NanumGothic' not found.\n",
      "WARNING:matplotlib.font_manager:findfont: Font family 'NanumGothic' not found.\n",
      "WARNING:matplotlib.font_manager:findfont: Font family 'NanumGothic' not found.\n",
      "WARNING:matplotlib.font_manager:findfont: Font family 'NanumGothic' not found.\n",
      "WARNING:matplotlib.font_manager:findfont: Font family 'NanumGothic' not found.\n",
      "WARNING:matplotlib.font_manager:findfont: Font family 'NanumGothic' not found.\n",
      "WARNING:matplotlib.font_manager:findfont: Font family 'NanumGothic' not found.\n",
      "WARNING:matplotlib.font_manager:findfont: Font family 'NanumGothic' not found.\n",
      "WARNING:matplotlib.font_manager:findfont: Font family 'NanumGothic' not found.\n",
      "WARNING:matplotlib.font_manager:findfont: Font family 'NanumGothic' not found.\n",
      "WARNING:matplotlib.font_manager:findfont: Font family 'NanumGothic' not found.\n",
      "WARNING:matplotlib.font_manager:findfont: Font family 'NanumGothic' not found.\n",
      "WARNING:matplotlib.font_manager:findfont: Font family 'NanumGothic' not found.\n",
      "WARNING:matplotlib.font_manager:findfont: Font family 'NanumGothic' not found.\n",
      "WARNING:matplotlib.font_manager:findfont: Font family 'NanumGothic' not found.\n",
      "WARNING:matplotlib.font_manager:findfont: Font family 'NanumGothic' not found.\n",
      "WARNING:matplotlib.font_manager:findfont: Font family 'NanumGothic' not found.\n",
      "WARNING:matplotlib.font_manager:findfont: Font family 'NanumGothic' not found.\n",
      "WARNING:matplotlib.font_manager:findfont: Font family 'NanumGothic' not found.\n",
      "WARNING:matplotlib.font_manager:findfont: Font family 'NanumGothic' not found.\n",
      "WARNING:matplotlib.font_manager:findfont: Font family 'NanumGothic' not found.\n",
      "WARNING:matplotlib.font_manager:findfont: Font family 'NanumGothic' not found.\n",
      "WARNING:matplotlib.font_manager:findfont: Font family 'NanumGothic' not found.\n",
      "WARNING:matplotlib.font_manager:findfont: Font family 'NanumGothic' not found.\n",
      "WARNING:matplotlib.font_manager:findfont: Font family 'NanumGothic' not found.\n",
      "WARNING:matplotlib.font_manager:findfont: Font family 'NanumGothic' not found.\n",
      "WARNING:matplotlib.font_manager:findfont: Font family 'NanumGothic' not found.\n",
      "WARNING:matplotlib.font_manager:findfont: Font family 'NanumGothic' not found.\n",
      "WARNING:matplotlib.font_manager:findfont: Font family 'NanumGothic' not found.\n",
      "WARNING:matplotlib.font_manager:findfont: Font family 'NanumGothic' not found.\n",
      "WARNING:matplotlib.font_manager:findfont: Font family 'NanumGothic' not found.\n",
      "WARNING:matplotlib.font_manager:findfont: Font family 'NanumGothic' not found.\n",
      "WARNING:matplotlib.font_manager:findfont: Font family 'NanumGothic' not found.\n",
      "WARNING:matplotlib.font_manager:findfont: Font family 'NanumGothic' not found.\n",
      "WARNING:matplotlib.font_manager:findfont: Font family 'NanumGothic' not found.\n",
      "WARNING:matplotlib.font_manager:findfont: Font family 'NanumGothic' not found.\n",
      "WARNING:matplotlib.font_manager:findfont: Font family 'NanumGothic' not found.\n",
      "WARNING:matplotlib.font_manager:findfont: Font family 'NanumGothic' not found.\n",
      "WARNING:matplotlib.font_manager:findfont: Font family 'NanumGothic' not found.\n",
      "WARNING:matplotlib.font_manager:findfont: Font family 'NanumGothic' not found.\n",
      "WARNING:matplotlib.font_manager:findfont: Font family 'NanumGothic' not found.\n",
      "WARNING:matplotlib.font_manager:findfont: Font family 'NanumGothic' not found.\n",
      "WARNING:matplotlib.font_manager:findfont: Font family 'NanumGothic' not found.\n",
      "WARNING:matplotlib.font_manager:findfont: Font family 'NanumGothic' not found.\n",
      "WARNING:matplotlib.font_manager:findfont: Font family 'NanumGothic' not found.\n",
      "WARNING:matplotlib.font_manager:findfont: Font family 'NanumGothic' not found.\n",
      "WARNING:matplotlib.font_manager:findfont: Font family 'NanumGothic' not found.\n",
      "WARNING:matplotlib.font_manager:findfont: Font family 'NanumGothic' not found.\n",
      "WARNING:matplotlib.font_manager:findfont: Font family 'NanumGothic' not found.\n",
      "WARNING:matplotlib.font_manager:findfont: Font family 'NanumGothic' not found.\n",
      "WARNING:matplotlib.font_manager:findfont: Font family 'NanumGothic' not found.\n",
      "WARNING:matplotlib.font_manager:findfont: Font family 'NanumGothic' not found.\n",
      "WARNING:matplotlib.font_manager:findfont: Font family 'NanumGothic' not found.\n",
      "WARNING:matplotlib.font_manager:findfont: Font family 'NanumGothic' not found.\n",
      "WARNING:matplotlib.font_manager:findfont: Font family 'NanumGothic' not found.\n",
      "WARNING:matplotlib.font_manager:findfont: Font family 'NanumGothic' not found.\n",
      "WARNING:matplotlib.font_manager:findfont: Font family 'NanumGothic' not found.\n",
      "WARNING:matplotlib.font_manager:findfont: Font family 'NanumGothic' not found.\n",
      "WARNING:matplotlib.font_manager:findfont: Font family 'NanumGothic' not found.\n",
      "WARNING:matplotlib.font_manager:findfont: Font family 'NanumGothic' not found.\n",
      "WARNING:matplotlib.font_manager:findfont: Font family 'NanumGothic' not found.\n",
      "WARNING:matplotlib.font_manager:findfont: Font family 'NanumGothic' not found.\n",
      "WARNING:matplotlib.font_manager:findfont: Font family 'NanumGothic' not found.\n",
      "WARNING:matplotlib.font_manager:findfont: Font family 'NanumGothic' not found.\n",
      "WARNING:matplotlib.font_manager:findfont: Font family 'NanumGothic' not found.\n",
      "WARNING:matplotlib.font_manager:findfont: Font family 'NanumGothic' not found.\n",
      "WARNING:matplotlib.font_manager:findfont: Font family 'NanumGothic' not found.\n",
      "WARNING:matplotlib.font_manager:findfont: Font family 'NanumGothic' not found.\n",
      "WARNING:matplotlib.font_manager:findfont: Font family 'NanumGothic' not found.\n",
      "WARNING:matplotlib.font_manager:findfont: Font family 'NanumGothic' not found.\n",
      "WARNING:matplotlib.font_manager:findfont: Font family 'NanumGothic' not found.\n",
      "WARNING:matplotlib.font_manager:findfont: Font family 'NanumGothic' not found.\n",
      "WARNING:matplotlib.font_manager:findfont: Font family 'NanumGothic' not found.\n",
      "WARNING:matplotlib.font_manager:findfont: Font family 'NanumGothic' not found.\n",
      "WARNING:matplotlib.font_manager:findfont: Font family 'NanumGothic' not found.\n",
      "WARNING:matplotlib.font_manager:findfont: Font family 'NanumGothic' not found.\n",
      "WARNING:matplotlib.font_manager:findfont: Font family 'NanumGothic' not found.\n",
      "WARNING:matplotlib.font_manager:findfont: Font family 'NanumGothic' not found.\n",
      "WARNING:matplotlib.font_manager:findfont: Font family 'NanumGothic' not found.\n",
      "WARNING:matplotlib.font_manager:findfont: Font family 'NanumGothic' not found.\n",
      "WARNING:matplotlib.font_manager:findfont: Font family 'NanumGothic' not found.\n",
      "WARNING:matplotlib.font_manager:findfont: Font family 'NanumGothic' not found.\n",
      "WARNING:matplotlib.font_manager:findfont: Font family 'NanumGothic' not found.\n",
      "WARNING:matplotlib.font_manager:findfont: Font family 'NanumGothic' not found.\n",
      "WARNING:matplotlib.font_manager:findfont: Font family 'NanumGothic' not found.\n",
      "WARNING:matplotlib.font_manager:findfont: Font family 'NanumGothic' not found.\n",
      "WARNING:matplotlib.font_manager:findfont: Font family 'NanumGothic' not found.\n",
      "WARNING:matplotlib.font_manager:findfont: Font family 'NanumGothic' not found.\n",
      "WARNING:matplotlib.font_manager:findfont: Font family 'NanumGothic' not found.\n",
      "WARNING:matplotlib.font_manager:findfont: Font family 'NanumGothic' not found.\n"
     ]
    },
    {
     "data": {
      "image/png": "[encoded data removed]",
      "text/plain": [
       "<Figure size 1600x900 with 4 Axes>"
      ]
     },
     "metadata": {},
     "output_type": "display_data"
    }
   ],
   "source": [
    "time_steps = [['1990', '2000'], \n",
    "              ['2000', '2010'], \n",
    "              ['2010', '2015'], \n",
    "              ['2015', '2020']]\n",
    "\n",
    "fig, axes = plt.subplots(2, 2)\n",
    "fig.set_size_inches(16, 9)\n",
    "for i in range(4):\n",
    "    ax = axes[i//2, i%2]\n",
    "    df = stock.loc[(stock.index > time_steps[i][0]) & (stock.index < time_steps[i][1])]\n",
    "    sns.lineplot(y=df['Close'], x=df.index, ax=ax)\n",
    "    ax.set_title(f'{time_steps[i][0]}~{time_steps[i][1]}')\n",
    "    ax.set_xlabel('time')\n",
    "    ax.set_ylabel('price')\n",
    "plt.tight_layout()\n",
    "plt.show()"
   ]
  },
  {
   "cell_type": "markdown",
   "metadata": {
    "id": "Z2Ex6yhXR-Fs"
   },
   "source": [
    "## 데이터 전처리"
   ]
  },
  {
   "cell_type": "markdown",
   "metadata": {
    "id": "sUKP64A9R-Ft"
   },
   "source": [
    "주가 데이터에 대하여 딥러닝 모델이 더 잘 학습할 수 있도록 **정규화(Normalization)**를 해주도록 하겠습니다.\n",
    "\n",
    "**표준화 (Standardization)**와 **정규화(Normalization)**에 대한 내용은 아래 링크에서 더 자세히 다루니, 참고해 보시기 바랍니다.\n",
    "\n",
    "- [데이터 전처리에 관하여](https://teddylee777.github.io/scikit-learn/scikit-learn-preprocessing)"
   ]
  },
  {
   "cell_type": "code",
   "execution_count": 25,
   "metadata": {
    "colab": {
     "base_uri": "https://localhost:8080/"
    },
    "id": "4-4PgRMZ0l5Q",
    "outputId": "d663834d-fc4d-402a-d2d7-2723b256fd56"
   },
   "outputs": [
    {
     "data": {
      "text/plain": [
       "array([[1.64341085e-02, 1.54338843e-02, 1.47597765e-02, 1.07072352e-03,\n",
       "        1.79215537e-02],\n",
       "       [1.55038760e-02, 1.46177686e-02, 1.50837989e-02, 4.23828060e-04,\n",
       "        1.05265778e-02],\n",
       "       [1.50609081e-02, 1.48347107e-02, 1.49720670e-02, 0.00000000e+00,\n",
       "        1.14450975e-02],\n",
       "       ...,\n",
       "       [7.05426357e-01, 6.58057851e-01, 7.05027933e-01, 6.89936314e-01,\n",
       "        1.73680002e-01],\n",
       "       [7.08748616e-01, 6.61157025e-01, 7.11731844e-01, 6.98859010e-01,\n",
       "        1.56074362e-01],\n",
       "       [7.08748616e-01, 6.61157025e-01, 7.03910615e-01, 6.89936314e-01,\n",
       "        1.00208959e-01]])"
      ]
     },
     "execution_count": 25,
     "metadata": {},
     "output_type": "execute_result"
    }
   ],
   "source": [
    "from sklearn.preprocessing import MinMaxScaler\n",
    "\n",
    "scaler = MinMaxScaler()\n",
    "# 스케일을 적용할 column을 정의합니다.\n",
    "scale_cols = ['Open', 'High', 'Low', 'Close', 'Volume']\n",
    "# 스케일 후 columns\n",
    "scaled = scaler.fit_transform(stock[scale_cols])\n",
    "scaled"
   ]
  },
  {
   "cell_type": "markdown",
   "metadata": {
    "id": "HuYgd7bUR-Fu"
   },
   "source": [
    "스케일이 완료된 column으로 새로운 데이터프레임을 생성합니다.\n",
    "\n",
    "**시간 순으로 정렬**되어 있으며, datetime index는 제외했습니다.\n",
    "\n",
    "*6,000개의 row, 5개 column*으로 이루어진 데이터셋이 DataFrame으로 정리되었습니다."
   ]
  },
  {
   "cell_type": "code",
   "execution_count": 26,
   "metadata": {
    "id": "dIJjE21B0l5m"
   },
   "outputs": [],
   "source": [
    "df = pd.DataFrame(scaled, columns=scale_cols)"
   ]
  },
  {
   "cell_type": "markdown",
   "metadata": {
    "id": "W6eCYEmZR-Fu"
   },
   "source": [
    "## train / test 분할"
   ]
  },
  {
   "cell_type": "code",
   "execution_count": 27,
   "metadata": {
    "id": "KhlNqkVDR-Fv"
   },
   "outputs": [],
   "source": [
    "from sklearn.model_selection import train_test_split"
   ]
  },
  {
   "cell_type": "code",
   "execution_count": 28,
   "metadata": {
    "id": "HfjNqZpFR-Fv"
   },
   "outputs": [],
   "source": [
    "x_train, x_test, y_train, y_test = train_test_split(df.drop('Close', 1), df['Close'], test_size=0.2, random_state=0, shuffle=False)"
   ]
  },
  {
   "cell_type": "code",
   "execution_count": 29,
   "metadata": {
    "colab": {
     "base_uri": "https://localhost:8080/"
    },
    "id": "MNi3HVtoR-Fw",
    "outputId": "298853cf-0888-41e4-8bed-5cb97d7f1e1d"
   },
   "outputs": [
    {
     "data": {
      "text/plain": [
       "((4800, 4), (4800,))"
      ]
     },
     "execution_count": 29,
     "metadata": {},
     "output_type": "execute_result"
    }
   ],
   "source": [
    "x_train.shape, y_train.shape"
   ]
  },
  {
   "cell_type": "code",
   "execution_count": 30,
   "metadata": {
    "colab": {
     "base_uri": "https://localhost:8080/"
    },
    "id": "iv295LVpR-Fx",
    "outputId": "050e2294-13d7-4a33-b964-5261cc71bd6a"
   },
   "outputs": [
    {
     "data": {
      "text/plain": [
       "((1200, 4), (1200,))"
      ]
     },
     "execution_count": 30,
     "metadata": {},
     "output_type": "execute_result"
    }
   ],
   "source": [
    "x_test.shape, y_test.shape"
   ]
  },
  {
   "cell_type": "code",
   "execution_count": 31,
   "metadata": {
    "colab": {
     "base_uri": "https://localhost:8080/",
     "height": 423
    },
    "id": "wH0YCy-HR-Fy",
    "outputId": "bc03b810-3d51-4261-d384-5380c3446fa6"
   },
   "outputs": [
    {
     "data": {
      "text/html": [
       "\n",
       "  <div id=\"df-1215a1e0-7a75-4868-8ba7-4927b6a5f84e\">\n",
       "    <div class=\"colab-df-container\">\n",
       "      <div>\n",
       "<style scoped>\n",
       "    .dataframe tbody tr th:only-of-type {\n",
       "        vertical-align: middle;\n",
       "    }\n",
       "\n",
       "    .dataframe tbody tr th {\n",
       "        vertical-align: top;\n",
       "    }\n",
       "\n",
       "    .dataframe thead th {\n",
       "        text-align: right;\n",
       "    }\n",
       "</style>\n",
       "<table border=\"1\" class=\"dataframe\">\n",
       "  <thead>\n",
       "    <tr style=\"text-align: right;\">\n",
       "      <th></th>\n",
       "      <th>Open</th>\n",
       "      <th>High</th>\n",
       "      <th>Low</th>\n",
       "      <th>Volume</th>\n",
       "    </tr>\n",
       "  </thead>\n",
       "  <tbody>\n",
       "    <tr>\n",
       "      <th>0</th>\n",
       "      <td>0.016434</td>\n",
       "      <td>0.015434</td>\n",
       "      <td>0.014760</td>\n",
       "      <td>0.017922</td>\n",
       "    </tr>\n",
       "    <tr>\n",
       "      <th>1</th>\n",
       "      <td>0.015504</td>\n",
       "      <td>0.014618</td>\n",
       "      <td>0.015084</td>\n",
       "      <td>0.010527</td>\n",
       "    </tr>\n",
       "    <tr>\n",
       "      <th>2</th>\n",
       "      <td>0.015061</td>\n",
       "      <td>0.014835</td>\n",
       "      <td>0.014972</td>\n",
       "      <td>0.011445</td>\n",
       "    </tr>\n",
       "    <tr>\n",
       "      <th>3</th>\n",
       "      <td>0.014419</td>\n",
       "      <td>0.014535</td>\n",
       "      <td>0.014547</td>\n",
       "      <td>0.008264</td>\n",
       "    </tr>\n",
       "    <tr>\n",
       "      <th>4</th>\n",
       "      <td>0.015504</td>\n",
       "      <td>0.014700</td>\n",
       "      <td>0.015084</td>\n",
       "      <td>0.007024</td>\n",
       "    </tr>\n",
       "    <tr>\n",
       "      <th>...</th>\n",
       "      <td>...</td>\n",
       "      <td>...</td>\n",
       "      <td>...</td>\n",
       "      <td>...</td>\n",
       "    </tr>\n",
       "    <tr>\n",
       "      <th>4795</th>\n",
       "      <td>0.555925</td>\n",
       "      <td>0.520661</td>\n",
       "      <td>0.548603</td>\n",
       "      <td>0.207175</td>\n",
       "    </tr>\n",
       "    <tr>\n",
       "      <th>4796</th>\n",
       "      <td>0.544850</td>\n",
       "      <td>0.518595</td>\n",
       "      <td>0.549162</td>\n",
       "      <td>0.176275</td>\n",
       "    </tr>\n",
       "    <tr>\n",
       "      <th>4797</th>\n",
       "      <td>0.557032</td>\n",
       "      <td>0.521694</td>\n",
       "      <td>0.551955</td>\n",
       "      <td>0.114781</td>\n",
       "    </tr>\n",
       "    <tr>\n",
       "      <th>4798</th>\n",
       "      <td>0.552602</td>\n",
       "      <td>0.515496</td>\n",
       "      <td>0.551397</td>\n",
       "      <td>0.074265</td>\n",
       "    </tr>\n",
       "    <tr>\n",
       "      <th>4799</th>\n",
       "      <td>0.549834</td>\n",
       "      <td>0.518595</td>\n",
       "      <td>0.548603</td>\n",
       "      <td>0.099893</td>\n",
       "    </tr>\n",
       "  </tbody>\n",
       "</table>\n",
       "<p>4800 rows × 4 columns</p>\n",
       "</div>\n",
       "      <button class=\"colab-df-convert\" onclick=\"convertToInteractive('df-1215a1e0-7a75-4868-8ba7-4927b6a5f84e')\"\n",
       "              title=\"Convert this dataframe to an interactive table.\"\n",
       "              style=\"display:none;\">\n",
       "        \n",
       "  <svg xmlns=\"http://www.w3.org/2000/svg\" height=\"24px\"viewBox=\"0 0 24 24\"\n",
       "       width=\"24px\">\n",
       "    <path d=\"M0 0h24v24H0V0z\" fill=\"none\"/>\n",
       "    <path d=\"M18.56 5.44l.94 2.06.94-2.06 2.06-.94-2.06-.94-.94-2.06-.94 2.06-2.06.94zm-11 1L8.5 8.5l.94-2.06 2.06-.94-2.06-.94L8.5 2.5l-.94 2.06-2.06.94zm10 10l.94 2.06.94-2.06 2.06-.94-2.06-.94-.94-2.06-.94 2.06-2.06.94z\"/><path d=\"M17.41 7.96l-1.37-1.37c-.4-.4-.92-.59-1.43-.59-.52 0-1.04.2-1.43.59L10.3 9.45l-7.72 7.72c-.78.78-.78 2.05 0 2.83L4 21.41c.39.39.9.59 1.41.59.51 0 1.02-.2 1.41-.59l7.78-7.78 2.81-2.81c.8-.78.8-2.07 0-2.86zM5.41 20L4 18.59l7.72-7.72 1.47 1.35L5.41 20z\"/>\n",
       "  </svg>\n",
       "      </button>\n",
       "      \n",
       "  <style>\n",
       "    .colab-df-container {\n",
       "      display:flex;\n",
       "      flex-wrap:wrap;\n",
       "      gap: 12px;\n",
       "    }\n",
       "\n",
       "    .colab-df-convert {\n",
       "      background-color: #E8F0FE;\n",
       "      border: none;\n",
       "      border-radius: 50%;\n",
       "      cursor: pointer;\n",
       "      display: none;\n",
       "      fill: #1967D2;\n",
       "      height: 32px;\n",
       "      padding: 0 0 0 0;\n",
       "      width: 32px;\n",
       "    }\n",
       "\n",
       "    .colab-df-convert:hover {\n",
       "      background-color: #E2EBFA;\n",
       "      box-shadow: 0px 1px 2px rgba(60, 64, 67, 0.3), 0px 1px 3px 1px rgba(60, 64, 67, 0.15);\n",
       "      fill: #174EA6;\n",
       "    }\n",
       "\n",
       "    [theme=dark] .colab-df-convert {\n",
       "      background-color: #3B4455;\n",
       "      fill: #D2E3FC;\n",
       "    }\n",
       "\n",
       "    [theme=dark] .colab-df-convert:hover {\n",
       "      background-color: #434B5C;\n",
       "      box-shadow: 0px 1px 3px 1px rgba(0, 0, 0, 0.15);\n",
       "      filter: drop-shadow(0px 1px 2px rgba(0, 0, 0, 0.3));\n",
       "      fill: #FFFFFF;\n",
       "    }\n",
       "  </style>\n",
       "\n",
       "      <script>\n",
       "        const buttonEl =\n",
       "          document.querySelector('#df-1215a1e0-7a75-4868-8ba7-4927b6a5f84e button.colab-df-convert');\n",
       "        buttonEl.style.display =\n",
       "          google.colab.kernel.accessAllowed ? 'block' : 'none';\n",
       "\n",
       "        async function convertToInteractive(key) {\n",
       "          const element = document.querySelector('#df-1215a1e0-7a75-4868-8ba7-4927b6a5f84e');\n",
       "          const dataTable =\n",
       "            await google.colab.kernel.invokeFunction('convertToInteractive',\n",
       "                                                     [key], {});\n",
       "          if (!dataTable) return;\n",
       "\n",
       "          const docLinkHtml = 'Like what you see? Visit the ' +\n",
       "            '<a target=\"_blank\" href=https://colab.research.google.com/notebooks/data_table.ipynb>data table notebook</a>'\n",
       "            + ' to learn more about interactive tables.';\n",
       "          element.innerHTML = '';\n",
       "          dataTable['output_type'] = 'display_data';\n",
       "          await google.colab.output.renderOutput(dataTable, element);\n",
       "          const docLink = document.createElement('div');\n",
       "          docLink.innerHTML = docLinkHtml;\n",
       "          element.appendChild(docLink);\n",
       "        }\n",
       "      </script>\n",
       "    </div>\n",
       "  </div>\n",
       "  "
      ],
      "text/plain": [
       "          Open      High       Low    Volume\n",
       "0     0.016434  0.015434  0.014760  0.017922\n",
       "1     0.015504  0.014618  0.015084  0.010527\n",
       "2     0.015061  0.014835  0.014972  0.011445\n",
       "3     0.014419  0.014535  0.014547  0.008264\n",
       "4     0.015504  0.014700  0.015084  0.007024\n",
       "...        ...       ...       ...       ...\n",
       "4795  0.555925  0.520661  0.548603  0.207175\n",
       "4796  0.544850  0.518595  0.549162  0.176275\n",
       "4797  0.557032  0.521694  0.551955  0.114781\n",
       "4798  0.552602  0.515496  0.551397  0.074265\n",
       "4799  0.549834  0.518595  0.548603  0.099893\n",
       "\n",
       "[4800 rows x 4 columns]"
      ]
     },
     "execution_count": 31,
     "metadata": {},
     "output_type": "execute_result"
    }
   ],
   "source": [
    "x_train"
   ]
  },
  {
   "cell_type": "markdown",
   "metadata": {
    "id": "6zpnTh4tR-Fy"
   },
   "source": [
    "## TensroFlow Dataset을 활용한 시퀀스 데이터셋 구성"
   ]
  },
  {
   "cell_type": "code",
   "execution_count": 32,
   "metadata": {
    "id": "amGF8euaR-Fy"
   },
   "outputs": [],
   "source": [
    "import tensorflow as tf"
   ]
  },
  {
   "cell_type": "code",
   "execution_count": 33,
   "metadata": {
    "id": "wCuWgkIER-Fz"
   },
   "outputs": [],
   "source": [
    "def windowed_dataset(series, window_size, batch_size, shuffle):\n",
    "    series = tf.expand_dims(series, axis=-1)\n",
    "    ds = tf.data.Dataset.from_tensor_slices(series)\n",
    "    ds = ds.window(window_size + 1, shift=1, drop_remainder=True)\n",
    "    ds = ds.flat_map(lambda w: w.batch(window_size + 1))\n",
    "    if shuffle:\n",
    "        ds = ds.shuffle(1000)\n",
    "    ds = ds.map(lambda w: (w[:-1], w[-1]))\n",
    "    return ds.batch(batch_size).prefetch(1)"
   ]
  },
  {
   "cell_type": "markdown",
   "metadata": {
    "id": "kpcKutFXR-Fz"
   },
   "source": [
    "Hyperparameter를 정의합니다."
   ]
  },
  {
   "cell_type": "code",
   "execution_count": 34,
   "metadata": {
    "id": "WlkAvi4nR-Fz"
   },
   "outputs": [],
   "source": [
    "WINDOW_SIZE=20\n",
    "BATCH_SIZE=32"
   ]
  },
  {
   "cell_type": "code",
   "execution_count": 35,
   "metadata": {
    "id": "2-xCtQ09R-F0"
   },
   "outputs": [],
   "source": [
    "# trian_data는 학습용 데이터셋, test_data는 검증용 데이터셋 입니다.\n",
    "train_data = windowed_dataset(y_train, WINDOW_SIZE, BATCH_SIZE, True)\n",
    "test_data = windowed_dataset(y_test, WINDOW_SIZE, BATCH_SIZE, False)"
   ]
  },
  {
   "cell_type": "code",
   "execution_count": 36,
   "metadata": {
    "colab": {
     "base_uri": "https://localhost:8080/"
    },
    "id": "9hcEMrnKR-F1",
    "outputId": "a4fa893a-a152-45df-ee33-e9ae61e583f3"
   },
   "outputs": [
    {
     "name": "stdout",
     "output_type": "stream",
     "text": [
      "데이터셋(X) 구성(batch_size, window_size, feature갯수): (32, 20, 1)\n",
      "데이터셋(Y) 구성(batch_size, window_size, feature갯수): (32, 1)\n"
     ]
    }
   ],
   "source": [
    "# 아래의 코드로 데이터셋의 구성을 확인해 볼 수 있습니다.\n",
    "# X: (batch_size, window_size, feature)\n",
    "# Y: (batch_size, feature)\n",
    "for data in train_data.take(1):\n",
    "    print(f'데이터셋(X) 구성(batch_size, window_size, feature갯수): {data[0].shape}')\n",
    "    print(f'데이터셋(Y) 구성(batch_size, window_size, feature갯수): {data[1].shape}')"
   ]
  },
  {
   "cell_type": "markdown",
   "metadata": {
    "id": "tP2g0uoXR-F3"
   },
   "source": [
    "## 모델"
   ]
  },
  {
   "cell_type": "code",
   "execution_count": 37,
   "metadata": {
    "id": "mAkmGu1j0l8M"
   },
   "outputs": [],
   "source": [
    "from tensorflow.keras.models import Sequential\n",
    "from tensorflow.keras.layers import Dense, LSTM, Conv1D, Lambda\n",
    "from tensorflow.keras.losses import Huber\n",
    "from tensorflow.keras.optimizers import Adam\n",
    "from tensorflow.keras.callbacks import EarlyStopping, ModelCheckpoint\n",
    "\n",
    "\n",
    "model = Sequential([\n",
    "    # 1차원 feature map 생성\n",
    "    Conv1D(filters=32, kernel_size=5,\n",
    "           padding=\"causal\",\n",
    "           activation=\"relu\",\n",
    "           input_shape=[WINDOW_SIZE, 1]),\n",
    "    # LSTM\n",
    "    LSTM(16, activation='tanh'),\n",
    "    Dense(16, activation=\"relu\"),\n",
    "    Dense(1),\n",
    "])"
   ]
  },
  {
   "cell_type": "code",
   "execution_count": 38,
   "metadata": {
    "id": "xShll_EX0l8T"
   },
   "outputs": [],
   "source": [
    "# Sequence 학습에 비교적 좋은 퍼포먼스를 내는 Huber()를 사용합니다.\n",
    "loss = Huber()\n",
    "optimizer = Adam(0.0005)\n",
    "model.compile(loss=Huber(), optimizer=optimizer, metrics=['mse'])"
   ]
  },
  {
   "cell_type": "code",
   "execution_count": 39,
   "metadata": {
    "id": "FSOKEqzTR-F5"
   },
   "outputs": [],
   "source": [
    "# earlystopping은 10번 epoch통안 val_loss 개선이 없다면 학습을 멈춥니다.\n",
    "earlystopping = EarlyStopping(monitor='val_loss', patience=10)\n",
    "# val_loss 기준 체크포인터도 생성합니다.\n",
    "filename = os.path.join('tmp', 'ckeckpointer.ckpt')\n",
    "checkpoint = ModelCheckpoint(filename, \n",
    "                             save_weights_only=True, \n",
    "                             save_best_only=True, \n",
    "                             monitor='val_loss', \n",
    "                             verbose=1)"
   ]
  },
  {
   "cell_type": "code",
   "execution_count": 40,
   "metadata": {
    "colab": {
     "base_uri": "https://localhost:8080/"
    },
    "id": "QHC8WKHxR-F5",
    "outputId": "5094fa18-2576-4a80-aadf-22eb92bc9d27"
   },
   "outputs": [
    {
     "name": "stdout",
     "output_type": "stream",
     "text": [
      "Epoch 1/50\n",
      "    150/Unknown - 14s 7ms/step - loss: 1.0182e-04 - mse: 2.0365e-04\n",
      "Epoch 1: val_loss improved from inf to 0.00055, saving model to tmp/ckeckpointer.ckpt\n",
      "150/150 [==============================] - 15s 15ms/step - loss: 1.0182e-04 - mse: 2.0365e-04 - val_loss: 5.4728e-04 - val_mse: 0.0011\n",
      "Epoch 2/50\n",
      "150/150 [==============================] - ETA: 0s - loss: 3.6592e-05 - mse: 7.3184e-05\n",
      "Epoch 2: val_loss improved from 0.00055 to 0.00042, saving model to tmp/ckeckpointer.ckpt\n",
      "150/150 [==============================] - 1s 9ms/step - loss: 3.6592e-05 - mse: 7.3184e-05 - val_loss: 4.2020e-04 - val_mse: 8.4040e-04\n",
      "Epoch 3/50\n",
      "148/150 [============================>.] - ETA: 0s - loss: 3.6046e-05 - mse: 7.2092e-05\n",
      "Epoch 3: val_loss improved from 0.00042 to 0.00035, saving model to tmp/ckeckpointer.ckpt\n",
      "150/150 [==============================] - 2s 10ms/step - loss: 3.6431e-05 - mse: 7.2862e-05 - val_loss: 3.5434e-04 - val_mse: 7.0868e-04\n",
      "Epoch 4/50\n",
      "150/150 [==============================] - ETA: 0s - loss: 3.5042e-05 - mse: 7.0083e-05\n",
      "Epoch 4: val_loss did not improve from 0.00035\n",
      "150/150 [==============================] - 2s 13ms/step - loss: 3.5042e-05 - mse: 7.0083e-05 - val_loss: 3.8204e-04 - val_mse: 7.6407e-04\n",
      "Epoch 5/50\n",
      "150/150 [==============================] - ETA: 0s - loss: 3.4311e-05 - mse: 6.8621e-05\n",
      "Epoch 5: val_loss did not improve from 0.00035\n",
      "150/150 [==============================] - 1s 9ms/step - loss: 3.4311e-05 - mse: 6.8621e-05 - val_loss: 4.2444e-04 - val_mse: 8.4888e-04\n",
      "Epoch 6/50\n",
      "142/150 [===========================>..] - ETA: 0s - loss: 3.0995e-05 - mse: 6.1989e-05\n",
      "Epoch 6: val_loss did not improve from 0.00035\n",
      "150/150 [==============================] - 1s 9ms/step - loss: 3.4028e-05 - mse: 6.8056e-05 - val_loss: 3.6252e-04 - val_mse: 7.2504e-04\n",
      "Epoch 7/50\n",
      "145/150 [============================>.] - ETA: 0s - loss: 2.9245e-05 - mse: 5.8490e-05\n",
      "Epoch 7: val_loss did not improve from 0.00035\n",
      "150/150 [==============================] - 1s 9ms/step - loss: 3.0853e-05 - mse: 6.1707e-05 - val_loss: 4.9649e-04 - val_mse: 9.9297e-04\n",
      "Epoch 8/50\n",
      "143/150 [===========================>..] - ETA: 0s - loss: 2.9668e-05 - mse: 5.9335e-05\n",
      "Epoch 8: val_loss improved from 0.00035 to 0.00032, saving model to tmp/ckeckpointer.ckpt\n",
      "150/150 [==============================] - 1s 9ms/step - loss: 3.1819e-05 - mse: 6.3639e-05 - val_loss: 3.2448e-04 - val_mse: 6.4897e-04\n",
      "Epoch 9/50\n",
      "145/150 [============================>.] - ETA: 0s - loss: 2.9605e-05 - mse: 5.9210e-05\n",
      "Epoch 9: val_loss did not improve from 0.00032\n",
      "150/150 [==============================] - 2s 14ms/step - loss: 3.1104e-05 - mse: 6.2207e-05 - val_loss: 4.8500e-04 - val_mse: 9.6999e-04\n",
      "Epoch 10/50\n",
      "142/150 [===========================>..] - ETA: 0s - loss: 2.9535e-05 - mse: 5.9069e-05\n",
      "Epoch 10: val_loss did not improve from 0.00032\n",
      "150/150 [==============================] - 1s 9ms/step - loss: 3.1464e-05 - mse: 6.2927e-05 - val_loss: 3.4676e-04 - val_mse: 6.9353e-04\n",
      "Epoch 11/50\n",
      "144/150 [===========================>..] - ETA: 0s - loss: 2.9151e-05 - mse: 5.8301e-05\n",
      "Epoch 11: val_loss did not improve from 0.00032\n",
      "150/150 [==============================] - 1s 9ms/step - loss: 3.0711e-05 - mse: 6.1422e-05 - val_loss: 8.1364e-04 - val_mse: 0.0016\n",
      "Epoch 12/50\n",
      "150/150 [==============================] - ETA: 0s - loss: 2.9087e-05 - mse: 5.8173e-05\n",
      "Epoch 12: val_loss did not improve from 0.00032\n",
      "150/150 [==============================] - 2s 9ms/step - loss: 2.9087e-05 - mse: 5.8173e-05 - val_loss: 4.5012e-04 - val_mse: 9.0025e-04\n",
      "Epoch 13/50\n",
      "144/150 [===========================>..] - ETA: 0s - loss: 2.6512e-05 - mse: 5.3024e-05\n",
      "Epoch 13: val_loss did not improve from 0.00032\n",
      "150/150 [==============================] - 1s 8ms/step - loss: 2.7577e-05 - mse: 5.5153e-05 - val_loss: 4.4556e-04 - val_mse: 8.9113e-04\n",
      "Epoch 14/50\n",
      "148/150 [============================>.] - ETA: 0s - loss: 2.7376e-05 - mse: 5.4752e-05\n",
      "Epoch 14: val_loss did not improve from 0.00032\n",
      "150/150 [==============================] - 1s 9ms/step - loss: 2.7629e-05 - mse: 5.5258e-05 - val_loss: 3.3991e-04 - val_mse: 6.7982e-04\n",
      "Epoch 15/50\n",
      "150/150 [==============================] - ETA: 0s - loss: 2.8594e-05 - mse: 5.7188e-05\n",
      "Epoch 15: val_loss did not improve from 0.00032\n",
      "150/150 [==============================] - 2s 11ms/step - loss: 2.8594e-05 - mse: 5.7188e-05 - val_loss: 3.8596e-04 - val_mse: 7.7192e-04\n",
      "Epoch 16/50\n",
      "143/150 [===========================>..] - ETA: 0s - loss: 2.4777e-05 - mse: 4.9553e-05\n",
      "Epoch 16: val_loss improved from 0.00032 to 0.00030, saving model to tmp/ckeckpointer.ckpt\n",
      "150/150 [==============================] - 1s 9ms/step - loss: 2.6691e-05 - mse: 5.3381e-05 - val_loss: 2.9713e-04 - val_mse: 5.9425e-04\n",
      "Epoch 17/50\n",
      "143/150 [===========================>..] - ETA: 0s - loss: 2.6394e-05 - mse: 5.2787e-05\n",
      "Epoch 17: val_loss did not improve from 0.00030\n",
      "150/150 [==============================] - 1s 8ms/step - loss: 2.8188e-05 - mse: 5.6376e-05 - val_loss: 3.2670e-04 - val_mse: 6.5341e-04\n",
      "Epoch 18/50\n",
      "147/150 [============================>.] - ETA: 0s - loss: 2.5587e-05 - mse: 5.1173e-05\n",
      "Epoch 18: val_loss did not improve from 0.00030\n",
      "150/150 [==============================] - 1s 9ms/step - loss: 2.6163e-05 - mse: 5.2325e-05 - val_loss: 3.9026e-04 - val_mse: 7.8053e-04\n",
      "Epoch 19/50\n",
      "146/150 [============================>.] - ETA: 0s - loss: 2.3495e-05 - mse: 4.6990e-05\n",
      "Epoch 19: val_loss did not improve from 0.00030\n",
      "150/150 [==============================] - 1s 8ms/step - loss: 2.4173e-05 - mse: 4.8346e-05 - val_loss: 4.5148e-04 - val_mse: 9.0297e-04\n",
      "Epoch 20/50\n",
      "146/150 [============================>.] - ETA: 0s - loss: 2.6282e-05 - mse: 5.2565e-05\n",
      "Epoch 20: val_loss improved from 0.00030 to 0.00028, saving model to tmp/ckeckpointer.ckpt\n",
      "150/150 [==============================] - 2s 15ms/step - loss: 2.7088e-05 - mse: 5.4176e-05 - val_loss: 2.8369e-04 - val_mse: 5.6738e-04\n",
      "Epoch 21/50\n",
      "145/150 [============================>.] - ETA: 0s - loss: 2.3056e-05 - mse: 4.6111e-05\n",
      "Epoch 21: val_loss did not improve from 0.00028\n",
      "150/150 [==============================] - 1s 9ms/step - loss: 2.3783e-05 - mse: 4.7566e-05 - val_loss: 3.9846e-04 - val_mse: 7.9691e-04\n",
      "Epoch 22/50\n",
      "148/150 [============================>.] - ETA: 0s - loss: 2.2763e-05 - mse: 4.5526e-05\n",
      "Epoch 22: val_loss did not improve from 0.00028\n",
      "150/150 [==============================] - 1s 9ms/step - loss: 2.3141e-05 - mse: 4.6282e-05 - val_loss: 3.5821e-04 - val_mse: 7.1642e-04\n",
      "Epoch 23/50\n",
      "147/150 [============================>.] - ETA: 0s - loss: 2.5262e-05 - mse: 5.0523e-05\n",
      "Epoch 23: val_loss did not improve from 0.00028\n",
      "150/150 [==============================] - 2s 9ms/step - loss: 2.5885e-05 - mse: 5.1770e-05 - val_loss: 3.9624e-04 - val_mse: 7.9249e-04\n",
      "Epoch 24/50\n",
      "142/150 [===========================>..] - ETA: 0s - loss: 2.1271e-05 - mse: 4.2543e-05\n",
      "Epoch 24: val_loss did not improve from 0.00028\n",
      "150/150 [==============================] - 1s 8ms/step - loss: 2.2497e-05 - mse: 4.4995e-05 - val_loss: 3.0581e-04 - val_mse: 6.1162e-04\n",
      "Epoch 25/50\n",
      "147/150 [============================>.] - ETA: 0s - loss: 2.2783e-05 - mse: 4.5565e-05\n",
      "Epoch 25: val_loss did not improve from 0.00028\n",
      "150/150 [==============================] - 2s 12ms/step - loss: 2.3145e-05 - mse: 4.6290e-05 - val_loss: 3.7360e-04 - val_mse: 7.4719e-04\n",
      "Epoch 26/50\n",
      "147/150 [============================>.] - ETA: 0s - loss: 2.0674e-05 - mse: 4.1349e-05\n",
      "Epoch 26: val_loss did not improve from 0.00028\n",
      "150/150 [==============================] - 2s 11ms/step - loss: 2.0881e-05 - mse: 4.1762e-05 - val_loss: 2.9029e-04 - val_mse: 5.8059e-04\n",
      "Epoch 27/50\n",
      "141/150 [===========================>..] - ETA: 0s - loss: 2.2829e-05 - mse: 4.5659e-05\n",
      "Epoch 27: val_loss did not improve from 0.00028\n",
      "150/150 [==============================] - 1s 9ms/step - loss: 2.4475e-05 - mse: 4.8950e-05 - val_loss: 3.9713e-04 - val_mse: 7.9426e-04\n",
      "Epoch 28/50\n",
      "150/150 [==============================] - ETA: 0s - loss: 2.2644e-05 - mse: 4.5287e-05\n",
      "Epoch 28: val_loss improved from 0.00028 to 0.00026, saving model to tmp/ckeckpointer.ckpt\n",
      "150/150 [==============================] - 1s 9ms/step - loss: 2.2644e-05 - mse: 4.5287e-05 - val_loss: 2.5536e-04 - val_mse: 5.1071e-04\n",
      "Epoch 29/50\n",
      "143/150 [===========================>..] - ETA: 0s - loss: 2.0676e-05 - mse: 4.1352e-05\n",
      "Epoch 29: val_loss did not improve from 0.00026\n",
      "150/150 [==============================] - 1s 9ms/step - loss: 2.1639e-05 - mse: 4.3278e-05 - val_loss: 3.0958e-04 - val_mse: 6.1917e-04\n",
      "Epoch 30/50\n",
      "143/150 [===========================>..] - ETA: 0s - loss: 1.9108e-05 - mse: 3.8215e-05\n",
      "Epoch 30: val_loss did not improve from 0.00026\n",
      "150/150 [==============================] - 1s 9ms/step - loss: 2.0184e-05 - mse: 4.0368e-05 - val_loss: 2.7276e-04 - val_mse: 5.4552e-04\n",
      "Epoch 31/50\n",
      "147/150 [============================>.] - ETA: 0s - loss: 2.0416e-05 - mse: 4.0833e-05\n",
      "Epoch 31: val_loss did not improve from 0.00026\n",
      "150/150 [==============================] - 2s 9ms/step - loss: 2.0806e-05 - mse: 4.1613e-05 - val_loss: 2.5691e-04 - val_mse: 5.1381e-04\n",
      "Epoch 32/50\n",
      "146/150 [============================>.] - ETA: 0s - loss: 1.9908e-05 - mse: 3.9817e-05\n",
      "Epoch 32: val_loss improved from 0.00026 to 0.00025, saving model to tmp/ckeckpointer.ckpt\n",
      "150/150 [==============================] - 1s 8ms/step - loss: 2.0574e-05 - mse: 4.1148e-05 - val_loss: 2.4899e-04 - val_mse: 4.9798e-04\n",
      "Epoch 33/50\n",
      "144/150 [===========================>..] - ETA: 0s - loss: 1.8681e-05 - mse: 3.7362e-05\n",
      "Epoch 33: val_loss improved from 0.00025 to 0.00021, saving model to tmp/ckeckpointer.ckpt\n",
      "150/150 [==============================] - 2s 12ms/step - loss: 1.9851e-05 - mse: 3.9702e-05 - val_loss: 2.0555e-04 - val_mse: 4.1110e-04\n",
      "Epoch 34/50\n",
      "143/150 [===========================>..] - ETA: 0s - loss: 1.7963e-05 - mse: 3.5926e-05\n",
      "Epoch 34: val_loss improved from 0.00021 to 0.00017, saving model to tmp/ckeckpointer.ckpt\n",
      "150/150 [==============================] - 2s 10ms/step - loss: 1.9188e-05 - mse: 3.8376e-05 - val_loss: 1.6665e-04 - val_mse: 3.3330e-04\n",
      "Epoch 35/50\n",
      "147/150 [============================>.] - ETA: 0s - loss: 1.9526e-05 - mse: 3.9052e-05\n",
      "Epoch 35: val_loss did not improve from 0.00017\n",
      "150/150 [==============================] - 2s 9ms/step - loss: 2.0068e-05 - mse: 4.0136e-05 - val_loss: 3.2813e-04 - val_mse: 6.5626e-04\n",
      "Epoch 36/50\n",
      "150/150 [==============================] - ETA: 0s - loss: 1.8909e-05 - mse: 3.7817e-05\n",
      "Epoch 36: val_loss did not improve from 0.00017\n",
      "150/150 [==============================] - 1s 9ms/step - loss: 1.8909e-05 - mse: 3.7817e-05 - val_loss: 1.9298e-04 - val_mse: 3.8595e-04\n",
      "Epoch 37/50\n",
      "143/150 [===========================>..] - ETA: 0s - loss: 1.7328e-05 - mse: 3.4656e-05\n",
      "Epoch 37: val_loss did not improve from 0.00017\n",
      "150/150 [==============================] - 1s 9ms/step - loss: 1.8106e-05 - mse: 3.6212e-05 - val_loss: 2.8926e-04 - val_mse: 5.7853e-04\n",
      "Epoch 38/50\n",
      "144/150 [===========================>..] - ETA: 0s - loss: 1.6408e-05 - mse: 3.2817e-05\n",
      "Epoch 38: val_loss did not improve from 0.00017\n",
      "150/150 [==============================] - 1s 9ms/step - loss: 1.7363e-05 - mse: 3.4726e-05 - val_loss: 1.8059e-04 - val_mse: 3.6118e-04\n",
      "Epoch 39/50\n",
      "144/150 [===========================>..] - ETA: 0s - loss: 1.6212e-05 - mse: 3.2424e-05\n",
      "Epoch 39: val_loss did not improve from 0.00017\n",
      "150/150 [==============================] - 2s 14ms/step - loss: 1.7023e-05 - mse: 3.4046e-05 - val_loss: 3.3585e-04 - val_mse: 6.7170e-04\n",
      "Epoch 40/50\n",
      "143/150 [===========================>..] - ETA: 0s - loss: 1.6841e-05 - mse: 3.3682e-05\n",
      "Epoch 40: val_loss did not improve from 0.00017\n",
      "150/150 [==============================] - 1s 9ms/step - loss: 1.7431e-05 - mse: 3.4861e-05 - val_loss: 2.7290e-04 - val_mse: 5.4580e-04\n",
      "Epoch 41/50\n",
      "146/150 [============================>.] - ETA: 0s - loss: 1.5860e-05 - mse: 3.1720e-05\n",
      "Epoch 41: val_loss did not improve from 0.00017\n",
      "150/150 [==============================] - 1s 9ms/step - loss: 1.6238e-05 - mse: 3.2476e-05 - val_loss: 4.8196e-04 - val_mse: 9.6391e-04\n",
      "Epoch 42/50\n",
      "142/150 [===========================>..] - ETA: 0s - loss: 1.4346e-05 - mse: 2.8691e-05\n",
      "Epoch 42: val_loss did not improve from 0.00017\n",
      "150/150 [==============================] - 1s 8ms/step - loss: 1.5354e-05 - mse: 3.0709e-05 - val_loss: 3.2397e-04 - val_mse: 6.4795e-04\n",
      "Epoch 43/50\n",
      "146/150 [============================>.] - ETA: 0s - loss: 1.5648e-05 - mse: 3.1296e-05\n",
      "Epoch 43: val_loss did not improve from 0.00017\n",
      "150/150 [==============================] - 1s 9ms/step - loss: 1.6284e-05 - mse: 3.2568e-05 - val_loss: 2.5402e-04 - val_mse: 5.0803e-04\n",
      "Epoch 44/50\n",
      "150/150 [==============================] - ETA: 0s - loss: 1.5883e-05 - mse: 3.1765e-05\n",
      "Epoch 44: val_loss did not improve from 0.00017\n",
      "150/150 [==============================] - 2s 12ms/step - loss: 1.5883e-05 - mse: 3.1765e-05 - val_loss: 3.1860e-04 - val_mse: 6.3720e-04\n"
     ]
    }
   ],
   "source": [
    "history = model.fit(train_data, \n",
    "                    validation_data=(test_data), \n",
    "                    epochs=50, \n",
    "                    callbacks=[checkpoint, earlystopping])"
   ]
  },
  {
   "cell_type": "markdown",
   "metadata": {
    "id": "A52FlJX-R-F6"
   },
   "source": [
    "저장한 ModelCheckpoint 를 로드합니다."
   ]
  },
  {
   "cell_type": "code",
   "execution_count": 41,
   "metadata": {
    "colab": {
     "base_uri": "https://localhost:8080/"
    },
    "id": "RoPIDRSo32f-",
    "outputId": "aeda15de-35f6-41a1-a793-5cc69dfb7095"
   },
   "outputs": [
    {
     "data": {
      "text/plain": [
       "<tensorflow.python.checkpoint.checkpoint.CheckpointLoadStatus at 0x7f2dca228040>"
      ]
     },
     "execution_count": 41,
     "metadata": {},
     "output_type": "execute_result"
    }
   ],
   "source": [
    "model.load_weights(filename)"
   ]
  },
  {
   "cell_type": "markdown",
   "metadata": {
    "id": "84mCKbGYR-F7"
   },
   "source": [
    "`test_data`를 활용하여 예측을 진행합니다."
   ]
  },
  {
   "cell_type": "code",
   "execution_count": 42,
   "metadata": {
    "colab": {
     "base_uri": "https://localhost:8080/"
    },
    "id": "WxAxSLNL0l8Z",
    "outputId": "d35a0f3b-3f02-4d04-a567-71b1e7cd0be0"
   },
   "outputs": [
    {
     "name": "stdout",
     "output_type": "stream",
     "text": [
      "37/37 [==============================] - 1s 8ms/step\n"
     ]
    }
   ],
   "source": [
    "pred = model.predict(test_data)"
   ]
  },
  {
   "cell_type": "code",
   "execution_count": 43,
   "metadata": {
    "colab": {
     "base_uri": "https://localhost:8080/"
    },
    "id": "yMPXjSQ10l8d",
    "outputId": "28b2f2b4-f177-4e60-96fc-6efbd96945ce"
   },
   "outputs": [
    {
     "data": {
      "text/plain": [
       "(1180, 1)"
      ]
     },
     "execution_count": 43,
     "metadata": {},
     "output_type": "execute_result"
    }
   ],
   "source": [
    "pred.shape"
   ]
  },
  {
   "cell_type": "markdown",
   "metadata": {
    "id": "jaWpXnQf6zMt"
   },
   "source": [
    "## 예측 데이터 시각화"
   ]
  },
  {
   "cell_type": "markdown",
   "metadata": {
    "id": "4TMqaZ3SR-GB"
   },
   "source": [
    "아래 시각화 코드중 y_test 데이터에 **[20:]**으로 슬라이싱을 한 이유는\n",
    "\n",
    "예측 데이터에서 20일치의 데이터로 21일치를 예측해야하기 때문에 test_data로 예측 시 *앞의 20일은 예측하지 않습니다.*\n",
    "\n",
    "따라서, 20번 째 index와 비교하면 더욱 정확합니다."
   ]
  },
  {
   "cell_type": "code",
   "execution_count": 44,
   "metadata": {
    "colab": {
     "base_uri": "https://localhost:8080/",
     "height": 1000
    },
    "id": "2F4QQ1O_0l8m",
    "outputId": "67af1b43-8508-4a21-ca02-47f13ba75907"
   },
   "outputs": [
    {
     "name": "stderr",
     "output_type": "stream",
     "text": [
      "WARNING:matplotlib.font_manager:findfont: Font family 'NanumGothic' not found.\n",
      "WARNING:matplotlib.font_manager:findfont: Font family 'NanumGothic' not found.\n",
      "WARNING:matplotlib.font_manager:findfont: Font family 'NanumGothic' not found.\n",
      "WARNING:matplotlib.font_manager:findfont: Font family 'NanumGothic' not found.\n",
      "WARNING:matplotlib.font_manager:findfont: Font family 'NanumGothic' not found.\n",
      "WARNING:matplotlib.font_manager:findfont: Font family 'NanumGothic' not found.\n",
      "WARNING:matplotlib.font_manager:findfont: Font family 'NanumGothic' not found.\n",
      "WARNING:matplotlib.font_manager:findfont: Font family 'NanumGothic' not found.\n",
      "WARNING:matplotlib.font_manager:findfont: Font family 'NanumGothic' not found.\n",
      "WARNING:matplotlib.font_manager:findfont: Font family 'NanumGothic' not found.\n",
      "WARNING:matplotlib.font_manager:findfont: Font family 'NanumGothic' not found.\n",
      "WARNING:matplotlib.font_manager:findfont: Font family 'NanumGothic' not found.\n",
      "WARNING:matplotlib.font_manager:findfont: Font family 'NanumGothic' not found.\n",
      "WARNING:matplotlib.font_manager:findfont: Font family 'NanumGothic' not found.\n",
      "WARNING:matplotlib.font_manager:findfont: Font family 'NanumGothic' not found.\n",
      "WARNING:matplotlib.font_manager:findfont: Font family 'NanumGothic' not found.\n",
      "WARNING:matplotlib.font_manager:findfont: Font family 'NanumGothic' not found.\n",
      "WARNING:matplotlib.font_manager:findfont: Font family 'NanumGothic' not found.\n",
      "WARNING:matplotlib.font_manager:findfont: Font family 'NanumGothic' not found.\n",
      "WARNING:matplotlib.font_manager:findfont: Font family 'NanumGothic' not found.\n",
      "WARNING:matplotlib.font_manager:findfont: Font family 'NanumGothic' not found.\n",
      "WARNING:matplotlib.font_manager:findfont: Font family 'NanumGothic' not found.\n",
      "WARNING:matplotlib.font_manager:findfont: Font family 'NanumGothic' not found.\n",
      "WARNING:matplotlib.font_manager:findfont: Font family 'NanumGothic' not found.\n",
      "WARNING:matplotlib.font_manager:findfont: Font family 'NanumGothic' not found.\n",
      "WARNING:matplotlib.font_manager:findfont: Font family 'NanumGothic' not found.\n",
      "WARNING:matplotlib.font_manager:findfont: Font family 'NanumGothic' not found.\n",
      "WARNING:matplotlib.font_manager:findfont: Font family 'NanumGothic' not found.\n",
      "WARNING:matplotlib.font_manager:findfont: Font family 'NanumGothic' not found.\n",
      "WARNING:matplotlib.font_manager:findfont: Font family 'NanumGothic' not found.\n",
      "WARNING:matplotlib.font_manager:findfont: Font family 'NanumGothic' not found.\n",
      "WARNING:matplotlib.font_manager:findfont: Font family 'NanumGothic' not found.\n",
      "WARNING:matplotlib.font_manager:findfont: Font family 'NanumGothic' not found.\n",
      "WARNING:matplotlib.font_manager:findfont: Font family 'NanumGothic' not found.\n",
      "WARNING:matplotlib.font_manager:findfont: Font family 'NanumGothic' not found.\n",
      "WARNING:matplotlib.font_manager:findfont: Font family 'NanumGothic' not found.\n",
      "WARNING:matplotlib.font_manager:findfont: Font family 'NanumGothic' not found.\n",
      "WARNING:matplotlib.font_manager:findfont: Font family 'NanumGothic' not found.\n",
      "WARNING:matplotlib.font_manager:findfont: Font family 'NanumGothic' not found.\n",
      "WARNING:matplotlib.font_manager:findfont: Font family 'NanumGothic' not found.\n",
      "WARNING:matplotlib.font_manager:findfont: Font family 'NanumGothic' not found.\n",
      "WARNING:matplotlib.font_manager:findfont: Font family 'NanumGothic' not found.\n",
      "WARNING:matplotlib.font_manager:findfont: Font family 'NanumGothic' not found.\n",
      "WARNING:matplotlib.font_manager:findfont: Font family 'NanumGothic' not found.\n",
      "WARNING:matplotlib.font_manager:findfont: Font family 'NanumGothic' not found.\n",
      "WARNING:matplotlib.font_manager:findfont: Font family 'NanumGothic' not found.\n",
      "WARNING:matplotlib.font_manager:findfont: Font family 'NanumGothic' not found.\n",
      "WARNING:matplotlib.font_manager:findfont: Font family 'NanumGothic' not found.\n",
      "WARNING:matplotlib.font_manager:findfont: Font family 'NanumGothic' not found.\n",
      "WARNING:matplotlib.font_manager:findfont: Font family 'NanumGothic' not found.\n",
      "WARNING:matplotlib.font_manager:findfont: Font family 'NanumGothic' not found.\n",
      "WARNING:matplotlib.font_manager:findfont: Font family 'NanumGothic' not found.\n",
      "WARNING:matplotlib.font_manager:findfont: Font family 'NanumGothic' not found.\n",
      "WARNING:matplotlib.font_manager:findfont: Font family 'NanumGothic' not found.\n",
      "WARNING:matplotlib.font_manager:findfont: Font family 'NanumGothic' not found.\n",
      "WARNING:matplotlib.font_manager:findfont: Font family 'NanumGothic' not found.\n",
      "WARNING:matplotlib.font_manager:findfont: Font family 'NanumGothic' not found.\n",
      "WARNING:matplotlib.font_manager:findfont: Font family 'NanumGothic' not found.\n",
      "WARNING:matplotlib.font_manager:findfont: Font family 'NanumGothic' not found.\n",
      "WARNING:matplotlib.font_manager:findfont: Font family 'NanumGothic' not found.\n",
      "WARNING:matplotlib.font_manager:findfont: Font family 'NanumGothic' not found.\n",
      "WARNING:matplotlib.font_manager:findfont: Font family 'NanumGothic' not found.\n",
      "WARNING:matplotlib.font_manager:findfont: Font family 'NanumGothic' not found.\n",
      "WARNING:matplotlib.font_manager:findfont: Font family 'NanumGothic' not found.\n",
      "WARNING:matplotlib.font_manager:findfont: Font family 'NanumGothic' not found.\n",
      "WARNING:matplotlib.font_manager:findfont: Font family 'NanumGothic' not found.\n",
      "WARNING:matplotlib.font_manager:findfont: Font family 'NanumGothic' not found.\n",
      "WARNING:matplotlib.font_manager:findfont: Font family 'NanumGothic' not found.\n",
      "WARNING:matplotlib.font_manager:findfont: Font family 'NanumGothic' not found.\n",
      "WARNING:matplotlib.font_manager:findfont: Font family 'NanumGothic' not found.\n",
      "WARNING:matplotlib.font_manager:findfont: Font family 'NanumGothic' not found.\n",
      "WARNING:matplotlib.font_manager:findfont: Font family 'NanumGothic' not found.\n",
      "WARNING:matplotlib.font_manager:findfont: Font family 'NanumGothic' not found.\n",
      "WARNING:matplotlib.font_manager:findfont: Font family 'NanumGothic' not found.\n",
      "WARNING:matplotlib.font_manager:findfont: Font family 'NanumGothic' not found.\n",
      "WARNING:matplotlib.font_manager:findfont: Font family 'NanumGothic' not found.\n"
     ]
    },
    {
     "data": {
      "image/png": "[encoded data removed]",
      "text/plain": [
       "<Figure size 1200x900 with 1 Axes>"
      ]
     },
     "metadata": {},
     "output_type": "display_data"
    }
   ],
   "source": [
    "plt.figure(figsize=(12, 9))\n",
    "plt.plot(np.asarray(y_test)[20:], label='actual')\n",
    "plt.plot(pred, label='prediction')\n",
    "plt.legend()\n",
    "plt.show()"
   ]
  },
  {
   "cell_type": "code",
   "execution_count": null,
   "metadata": {
    "id": "Mci_NOQ5as0Z"
   },
   "outputs": [],
   "source": []
  }
 ],
 "metadata": {
  "accelerator": "GPU",
  "colab": {
   "name": "LSTM을 활용한 삼성전자 주가예측.ipynb",
   "provenance": []
  },
  "kernelspec": {
   "display_name": "Python 3 (ipykernel)",
   "language": "python",
   "name": "python3"
  },
  "language_info": {
   "codemirror_mode": {
    "name": "ipython",
    "version": 3
   },
   "file_extension": ".py",
   "mimetype": "text/x-python",
   "name": "python",
   "nbconvert_exporter": "python",
   "pygments_lexer": "ipython3",
   "version": "3.8.8"
  }
 },
 "nbformat": 4,
 "nbformat_minor": 1
}
